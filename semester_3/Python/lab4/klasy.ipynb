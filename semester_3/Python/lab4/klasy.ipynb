{
 "cells": [
  {
   "cell_type": "markdown",
   "metadata": {
    "collapsed": false
   },
   "source": [
    "# Klasy\n"
   ]
  },
  {
   "cell_type": "markdown",
   "metadata": {
    "collapsed": false
   },
   "source": [
    "Niemal wszystko w Pythonie jest obiektem. Definiując własne obiekty zwykle możliwe jest implementowanie zróżnicowanych zachowań, nawet przeciążanie operatorów, czyli możliwość wykorzystania operatorów +, - na instancjack klas."
   ]
  },
  {
   "cell_type": "markdown",
   "metadata": {
    "collapsed": false
   },
   "source": [
    "## Tworzenie, usuwanie i reprezentacje tekstowe obiektów"
   ]
  },
  {
   "cell_type": "code",
   "execution_count": 1,
   "metadata": {
    "collapsed": false
   },
   "outputs": [],
   "source": [
    "class Example:\n",
    "\n",
    "    \"\"\"\n",
    "    Konstruktor\n",
    "    Służy do inicjalizacji obiektu. Zawiera parametry przekazywane przy tworzeniu obiektu oraz ustawia wartości atrybutów instancji.\n",
    "    \"\"\"\n",
    "    def __init__(self, name):\n",
    "        self.name = name\n",
    "\n",
    "    \"\"\"\n",
    "    Destruktor\n",
    "    Wywoływany podczas niszczenia obiektu. Zwykle używany do czyszczenia zasobów, takich jak pliki lub połączenia sieciowe.\n",
    "    \"\"\"\n",
    "    def __del__(self):\n",
    "        print(\"Object is being deleted\")\n",
    "\n",
    "    \"\"\"\n",
    "    Metody zwracające łańcuchy znaków\n",
    "    \"\"\"\n",
    "    def __str__(self):\n",
    "        \"\"\"\n",
    "        Ma na celu zwrócenie \"przyjaznej\" dla użytkownika reprezentacji obiektu.\n",
    "        Wynik str() powinien być zrozumiały i czytelny, szczególnie dla osób, które używają aplikacji.\n",
    "        \"\"\"\n",
    "        return f\"This is an Example object with name = {self.name}\"\n",
    "\n",
    "    def __repr__(self):\n",
    "        \"\"\"\n",
    "        Służy do zwrócenia \"dokładnej\" lub \"surowej\" reprezentacji obiektu, która ma na celu być bardziej techniczna. Wynik repr() powinien zawierać wszystkie szczegóły, które pozwolą na jednoznaczne odtworzenie obiektu\n",
    "        \"\"\"\n",
    "        return f\"Example(\\\"{self.name}\\\")\"\n",
    "\n",
    "    \"\"\"\n",
    "    Metody\n",
    "    Zwykłe funkcje zdefiniowane wewnątrz klasy, które działają na danych tej klasy. Metody zawsze przyjmują self jako pierwszy argument, aby mieć dostęp do atrybutów obiektu.\n",
    "    \"\"\"\n",
    "    def greet(self):\n",
    "        print(f\"Hello, {self.name}!\")"
   ]
  },
  {
   "cell_type": "code",
   "execution_count": 2,
   "metadata": {
    "collapsed": false
   },
   "outputs": [
    {
     "name": "stdout",
     "output_type": "stream",
     "text": [
      "Hello, Ryszard!\n",
      "This is an Example object with name = Ryszard\n",
      "Example(\"Ryszard\")\n"
     ]
    }
   ],
   "source": [
    "e = Example(\"Ryszard\")\n",
    "e.greet()\n",
    "print(e)\n",
    "print(repr(e))"
   ]
  },
  {
   "cell_type": "markdown",
   "metadata": {
    "collapsed": false
   },
   "source": [
    "## Inne metody magiczne\n",
    "Metody magiczne pozwalają w pełni kontrolować zachowanie obiektów także w innych sytuacjach, takich jak porównywanie, wywoływanie, iterowanie czy obsługa operatorów. Poniżej przedstawiono przykładową implementacja klasy `MyVector`, która zawiera kilka ważnych metod specjalnych, w tym `__eq__`, `__add__`, `__sub__`, oraz `__mul__`, jak również inne przydatne metody, takie jak `__repr__` oraz `__len__`"
   ]
  },
  {
   "cell_type": "code",
   "execution_count": null,
   "metadata": {
    "collapsed": false
   },
   "outputs": [
    {
     "name": "stdout",
     "output_type": "stream",
     "text": [
      "v1.magnitude() = 5.385164807134504\n",
      "v2.magnitude() = 4.242640687119285\n",
      "v1 < v2 = False\n",
      "v1 <= v2 = False\n",
      "v1 > v2 = True\n",
      "v1 >= v2 = True\n",
      "posortowane:\n",
      "[MyVector(-1, -1), MyVector(1, 2), MyVector(2, 1), MyVector(3, 4), MyVector(0, 5)]\n",
      "\n",
      "posortowane X2:\n",
      "[MyVector(-1, -1), MyVector(2, 1), MyVector(1, 2), MyVector(3, 4), MyVector(0, 5)]\n",
      "v1 * 3 = MyVector(6, 9, 12)\n",
      "v1 * v2 = MyVector(-6, -9, 0)\n",
      "MyVector(0, 0, 0)\n",
      "MyVector(1, 1, 1, 1)\n",
      "MyVector(0.3035903357854316, 0.9675701555579651, 0.21323581923940704, 0.6752199400128065, 0.5211760253013289)\n"
     ]
    }
   ],
   "source": [
    "from typing import Union\n",
    "import math\n",
    "import random\n",
    "\n",
    "class MyVector:\n",
    "    def __init__(self, *components: Union[float, int]):\n",
    "        \"\"\"\n",
    "        Inicjalizuje wektor o dowolnej liczbie składowych.\n",
    "        \"\"\"\n",
    "        self.components = components\n",
    "\n",
    "    def __eq__(self, other: 'MyVector') -> bool:\n",
    "        \"\"\"\n",
    "        Sprawdza, czy dwa wektory są sobie równe.\n",
    "        \"\"\"\n",
    "        return self.components == other.components\n",
    "\n",
    "    def __add__(self, other: 'MyVector') -> 'MyVector':\n",
    "        \"\"\"\n",
    "        Dodaje dwa wektory.\n",
    "        \"\"\"\n",
    "        if len(self) != len(other):\n",
    "            raise ValueError(\"Vectors must be of the same length\")\n",
    "        result = tuple(a + b for a, b in zip(self.components, other.components))\n",
    "        return MyVector(*result)\n",
    "\n",
    "    def __sub__(self, other: 'MyVector') -> 'MyVector':\n",
    "        \"\"\"\n",
    "        Odejmuje jeden wektor od drugiego.\n",
    "        Pozwala korzystać z operatora `-`\n",
    "        \"\"\"\n",
    "        if len(self) != len(other): # Korzystanie z `len()` na instan\n",
    "            raise ValueError(\"Vectors must be of the same length\")\n",
    "        result = tuple(a - b for a, b in zip(self.components, other.components))\n",
    "        return MyVector(*result)\n",
    "\n",
    "    def __mul__(self, other: Union[float, int, 'MyVector']) -> 'MyVector':\n",
    "        if isinstance(other, (float, int)):\n",
    "            # Mnożenie przez skalar\n",
    "            result = tuple(a * other for a in self.components)\n",
    "        elif isinstance(other, MyVector):\n",
    "        # Mnożenie składnikowe dwóch wektorów\n",
    "            if len(self) != len(other):\n",
    "                raise ValueError(\"Vectors must be of the same length\")\n",
    "            result = tuple(a * b for a, b in zip(self.components, other.components))\n",
    "        else:\n",
    "            raise TypeError(\"The operand must be a scalar (float or int) or an instance of MyVector\")\n",
    "        return MyVector(*result)\n",
    "\n",
    "    def __len__(self) -> int:\n",
    "        \"\"\"\n",
    "        Zwraca liczbę składowych wektora.\n",
    "        Pozwala korzystać z funkcji `len()`\n",
    "        \"\"\"\n",
    "        return len(self.components)\n",
    "    \n",
    "    def magnitude(self) -> float:\n",
    "        \"\"\"\n",
    "        Oblicza długość wektora.\n",
    "        \"\"\"\n",
    "        return math.sqrt(sum(x ** 2 for x in self.components))\n",
    "\n",
    "    def __lt__(self, other: 'MyVector') -> bool:\n",
    "        \"\"\"\n",
    "        Sprawdza, czy długość wektora jest mniejsza niż długość innego wektora.\n",
    "        \"\"\"\n",
    "        return self.magnitude() < other.magnitude()\n",
    "\n",
    "    def __le__(self, other: 'MyVector') -> bool:\n",
    "        \"\"\"\n",
    "        Sprawdza, czy długość wektora jest mniejsza lub równa długości innego wektora.\n",
    "        \"\"\"\n",
    "        return self.magnitude() <= other.magnitude()\n",
    "\n",
    "    def __gt__(self, other: 'MyVector') -> bool:\n",
    "        \"\"\"\n",
    "        Sprawdza, czy długość wektora jest większa niż długość innego wektora.\n",
    "        \"\"\"\n",
    "        return self.magnitude() > other.magnitude()\n",
    "\n",
    "    def __ge__(self, other: 'MyVector') -> bool:\n",
    "        \"\"\"\n",
    "        Sprawdza, czy długość wektora jest większa lub równa długości innego wektora.\n",
    "        \"\"\"\n",
    "        return self.magnitude() >= other.magnitude()\n",
    "\n",
    "    def __repr__(self) -> str:\n",
    "        \"\"\"\n",
    "        Zwraca reprezentację tekstową wektora.\n",
    "        \"\"\"\n",
    "        return f\"MyVector{self.components}\"\n",
    "\n",
    "    @staticmethod\n",
    "    def zeros(size: int) -> 'MyVector':\n",
    "        return MyVector(*(0 for _ in range(size)))\n",
    "\n",
    "    @staticmethod\n",
    "    def ones(size: int) -> 'MyVector':\n",
    "        return MyVector(*(1 for _ in range(size)))\n",
    "\n",
    "    @staticmethod\n",
    "    def random(size: int) -> 'MyVector':\n",
    "        return MyVector(*(random.random() for _ in range(size)))\n",
    "\n",
    "\n",
    "\n",
    "    #Rozwiązania zadań: \n",
    "\n",
    "    v1 = MyVector(2, 3, 4)\n",
    "    v2 = MyVector(-3, -3, 0)\n",
    "\n",
    "    #1\n",
    "    print(f\"{v1.magnitude() = }\")\n",
    "    print(f\"{v2.magnitude() = }\")\n",
    "\n",
    "    print(f\"{v1 < v2 = }\")\n",
    "    print(f\"{v1 <= v2 = }\")\n",
    "    print(f\"{v1 > v2 = }\")\n",
    "    print(f\"{v1 >= v2 = }\")\n",
    "\n",
    "    #2\n",
    "    vectors = [MyVector(1, 2), MyVector(3, 4), MyVector(0, 5), MyVector(2, 1), MyVector(-1, -1)]\n",
    "\n",
    "    byMagnitude = sorted(vectors)\n",
    "\n",
    "    byX2 = sorted(vectors, key=lambda v: v.components[1])\n",
    "\n",
    "    print(\"posortowane:\")\n",
    "    print(byMagnitude)\n",
    "\n",
    "    print(\"\\nposortowane X2:\")\n",
    "    print(byX2)\n",
    "\n",
    "    #3\n",
    "    print(f\"{v1 * 3 = }\")  \n",
    "    print(f\"{v1 * v2 = }\") \n",
    "\n",
    "    #4\n",
    "    print(MyVector.zeros(3))\n",
    "    print(MyVector.ones(4))\n",
    "    print(MyVector.random(5))\n"
   ]
  },
  {
   "cell_type": "code",
   "execution_count": 4,
   "metadata": {
    "collapsed": false
   },
   "outputs": [
    {
     "name": "stdout",
     "output_type": "stream",
     "text": [
      "v1 + v2 = MyVector(-1, 0, 4)\n",
      "v1 - v2 = MyVector(5, 6, 4)\n",
      "v1 * 5 = MyVector(10, 15, 20) \n"
     ]
    }
   ],
   "source": [
    "v1 = MyVector(2, 3, 4)\n",
    "v2 = MyVector(-3, -3, 0)\n",
    "\n",
    "# Jak widać, instrukcja print wypisując nasz obiekt korzysta z metody __repr__()\n",
    "print(f\"{v1 + v2 = }\")\n",
    "print(f\"{v1 - v2 = }\")\n",
    "print(f\"{v1 * 5 = } \")"
   ]
  },
  {
   "cell_type": "markdown",
   "metadata": {
    "collapsed": false
   },
   "source": [
    "## Gettery i settery"
   ]
  },
  {
   "cell_type": "markdown",
   "metadata": {
    "collapsed": false
   },
   "source": [
    "Gettery i settery to metody używane do kontrolowanego dostępu do atrybutów obiektów w klasach. Pozwalają na ukrycie wewnętrznej implementacji klasy i dają możliwość weryfikacji lub modyfikacji danych w trakcie odczytu lub zapisu wartości. W Pythonie można łatwo zdefiniować gettery i settery, korzystając z dekoratora `@property` dla getterów oraz `@<property_name>.setter` dla setterów.\n",
    "\n",
    "**Korzystanie z getterów i setterów nie jest wymagane**. Zamiast tego można nazywać zmienne prywatne z użyciem podkreślnika: `_a`, `_b` itd. co według konwencji informuje użytkownika, że nie powinien modyfikować wartości zmiennej. Operacja modyfikacji będzie jednak możliwa."
   ]
  },
  {
   "cell_type": "code",
   "execution_count": 5,
   "metadata": {
    "collapsed": false
   },
   "outputs": [
    {
     "name": "stdout",
     "output_type": "stream",
     "text": [
      "Alice\n",
      "Bob\n"
     ]
    },
    {
     "ename": "ValueError",
     "evalue": "Name cannot be empty",
     "output_type": "error",
     "traceback": [
      "\u001b[1;31m---------------------------------------------------------------------------\u001b[0m",
      "\u001b[1;31mValueError\u001b[0m                                Traceback (most recent call last)",
      "Cell \u001b[1;32mIn[5], line 24\u001b[0m\n\u001b[0;32m     21\u001b[0m p\u001b[38;5;241m.\u001b[39mname \u001b[38;5;241m=\u001b[39m \u001b[38;5;124m\"\u001b[39m\u001b[38;5;124mBob\u001b[39m\u001b[38;5;124m\"\u001b[39m  \u001b[38;5;66;03m# Wywołanie settera\u001b[39;00m\n\u001b[0;32m     22\u001b[0m \u001b[38;5;28mprint\u001b[39m(p\u001b[38;5;241m.\u001b[39mname)\n\u001b[1;32m---> 24\u001b[0m \u001b[43mp\u001b[49m\u001b[38;5;241;43m.\u001b[39;49m\u001b[43mname\u001b[49m \u001b[38;5;241m=\u001b[39m \u001b[38;5;28;01mNone\u001b[39;00m\n",
      "Cell \u001b[1;32mIn[5], line 15\u001b[0m, in \u001b[0;36mPerson.name\u001b[1;34m(self, value)\u001b[0m\n\u001b[0;32m     11\u001b[0m \u001b[38;5;250m\u001b[39m\u001b[38;5;124;03m\"\"\"\u001b[39;00m\n\u001b[0;32m     12\u001b[0m \u001b[38;5;124;03mSetter z walidacją\u001b[39;00m\n\u001b[0;32m     13\u001b[0m \u001b[38;5;124;03m\"\"\"\u001b[39;00m\n\u001b[0;32m     14\u001b[0m \u001b[38;5;28;01mif\u001b[39;00m \u001b[38;5;129;01mnot\u001b[39;00m value:\n\u001b[1;32m---> 15\u001b[0m     \u001b[38;5;28;01mraise\u001b[39;00m \u001b[38;5;167;01mValueError\u001b[39;00m(\u001b[38;5;124m\"\u001b[39m\u001b[38;5;124mName cannot be empty\u001b[39m\u001b[38;5;124m\"\u001b[39m)\n\u001b[0;32m     16\u001b[0m \u001b[38;5;28mself\u001b[39m\u001b[38;5;241m.\u001b[39m_name \u001b[38;5;241m=\u001b[39m value\n",
      "\u001b[1;31mValueError\u001b[0m: Name cannot be empty"
     ]
    }
   ],
   "source": [
    "class Person:\n",
    "    def __init__(self, name: str):\n",
    "        self._name = name\n",
    "\n",
    "    @property\n",
    "    def name(self):\n",
    "        return self._name\n",
    "\n",
    "    @name.setter\n",
    "    def name(self, value: str):\n",
    "        \"\"\"\n",
    "        Setter z walidacją\n",
    "        \"\"\"\n",
    "        if not value:\n",
    "            raise ValueError(\"Name cannot be empty\")\n",
    "        self._name = value\n",
    "\n",
    "# Użycie\n",
    "p = Person(\"Alice\")\n",
    "print(p.name)  # Wywołanie gettera\n",
    "p.name = \"Bob\"  # Wywołanie settera\n",
    "print(p.name)\n",
    "\n",
    "p.name = None"
   ]
  },
  {
   "cell_type": "markdown",
   "metadata": {
    "collapsed": false
   },
   "source": [
    "# Zadania:"
   ]
  },
  {
   "cell_type": "markdown",
   "metadata": {
    "collapsed": false
   },
   "source": [
    "Zad 1.\n",
    "Uzupełnić wcześniej przedstawioną implemetację wektora o metodę `magnitude()`, która obliczy długość wektora ze wzoru:\n",
    "\n",
    "Długość wektora  $\\mathbf{v}$  o współrzędnych $ (x_1, x_2, \\ldots, x_n) $ jest obliczana za pomocą wzoru:\n",
    "\n",
    "$\n",
    "\\|\\mathbf{v}\\| = \\sqrt{x_1^2 + x_2^2 + \\ldots + x_n^2}\n",
    "$\n",
    "\n",
    "Zaimplementować możliwość korzystania z operatorów `<` `<=`, `>=` i `>` implementując funkcje:\n",
    " `__lt__(self, other: 'MyVector')`\n",
    " `__le__(self, other: 'MyVector')`\n",
    " `__gt__(self, other: 'MyVector')`\n",
    " `__ge__(self, other: 'MyVector')`\n",
    "   Przyjmijmy, że porównujemy długości wektorów.\n",
    "\n",
    "Poniżej zaprezentować działanie:"
   ]
  },
  {
   "cell_type": "code",
   "execution_count": null,
   "metadata": {
    "collapsed": false
   },
   "outputs": [],
   "source": []
  },
  {
   "cell_type": "markdown",
   "metadata": {
    "collapsed": false
   },
   "source": [
    "Zad 2.\n",
    "Stworzyć listę wektorów. Stworzyć kopię tej listy:\n",
    "a. Z wektorami posortowanymi według długości wektora - wg `magnitude()`. Wskazówka: jeśli zaimplementujemy metodę `__lt__()`, wystarczy samo użycie `sorted()`\n",
    "b. Z wektorami posortowanymi według składowej $x_2$\n",
    "\n",
    "Poniżej zaprezentować działanie:"
   ]
  },
  {
   "cell_type": "code",
   "execution_count": null,
   "metadata": {
    "collapsed": false
   },
   "outputs": [],
   "source": []
  },
  {
   "cell_type": "markdown",
   "metadata": {
    "collapsed": false
   },
   "source": [
    "Zad 3.\n",
    "Rozszerzyć implementację klasy MyVector, aby umożliwić mnożenie wektora nie tylko przez skalar, ale i drugi wektor. W tym celu zmodyfikować metodę `__mul__`, która sprawdzi typ argumentu:\n",
    "\n",
    "- Jeśli argument jest liczbą (skalarem), wykonać mnożenie wektora przez ten skalar.\n",
    "- Jeśli argument jest instancją MyVector, wykonać mnożenie składnikowe dwóch wektorów (tj. pomnożenie odpowiednich współrzędnych).\n",
    "\n",
    "Poniżej zaprezentować działanie:"
   ]
  },
  {
   "cell_type": "code",
   "execution_count": null,
   "metadata": {
    "collapsed": false
   },
   "outputs": [],
   "source": []
  },
  {
   "cell_type": "markdown",
   "metadata": {
    "collapsed": false
   },
   "source": [
    "Zad 4.\n",
    "Dodać metodę **statyczną** `zeros(size: int)`, która zwróci wektor zerowy o podanym rozmiarze. W podobny sposób stworzyć metody:\n",
    "- `ones(size: int)`\n",
    "- `random(size: int)` (losowy wektor o podanym rozmiarze)\n",
    "\n",
    "Poniżej zaprezentować działanie:"
   ]
  },
  {
   "cell_type": "code",
   "execution_count": null,
   "metadata": {
    "collapsed": false
   },
   "outputs": [],
   "source": []
  },
  {
   "cell_type": "markdown",
   "metadata": {
    "collapsed": false
   },
   "source": []
  }
 ],
 "metadata": {
  "kernelspec": {
   "display_name": "Python 3",
   "language": "python",
   "name": "python3"
  },
  "language_info": {
   "codemirror_mode": {
    "name": "ipython",
    "version": 3
   },
   "file_extension": ".py",
   "mimetype": "text/x-python",
   "name": "python",
   "nbconvert_exporter": "python",
   "pygments_lexer": "ipython3",
   "version": "3.13.0"
  }
 },
 "nbformat": 4,
 "nbformat_minor": 0
}
