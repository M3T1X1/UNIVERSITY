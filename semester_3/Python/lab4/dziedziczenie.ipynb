{
 "cells": [
  {
   "cell_type": "markdown",
   "source": [
    "# Dziedziczenie"
   ],
   "metadata": {
    "collapsed": false
   }
  },
  {
   "cell_type": "markdown",
   "source": [
    "## Proste dziedziczenie\n",
    "Poniżej przedstawiono przykład prostego dziedziczenia, wraz z przesłanianiem metod oraz przykładową metodą statyczną"
   ],
   "metadata": {
    "collapsed": false
   }
  },
  {
   "cell_type": "code",
   "execution_count": 5,
   "metadata": {
    "collapsed": true
   },
   "outputs": [
    {
     "name": "stdout",
     "output_type": "stream",
     "text": [
      "Animal speaks: Bark!\n",
      "Meow!\n",
      "Jessie, Lessie, and Bessie are hanging out together!\n"
     ]
    }
   ],
   "source": [
    "class Animal:\n",
    "    def __init__(self, name):\n",
    "        self._name = name\n",
    "\n",
    "    def speak(self) -> str:\n",
    "        return \"Animal speaks\"\n",
    "\n",
    "\n",
    "class Dog(Animal):  # W nawiasach okrągłych przy nazwie klasy definiujemy klasę rodzica\n",
    "    def speak(self) -> str:\n",
    "        \"\"\"\n",
    "        Przesłonięcie metody speak. Wywołanie metody speak na obiekcie Dog będzie wywoływało poniższy kod.\n",
    "        Można wywołać metodę rodzica, korzystając z `super`\n",
    "        :return:\n",
    "        \"\"\"\n",
    "        parent_content = super().speak()\n",
    "\n",
    "        return f\"{parent_content}: Bark!\"\n",
    "\n",
    "\n",
    "class Cat(Animal):\n",
    "\n",
    "    def speak(self) -> str:\n",
    "        return \"Meow!\"\n",
    "\n",
    "    @staticmethod\n",
    "    def hang_out(*cats: \"Cat\"):\n",
    "        \"\"\"\n",
    "        Metoda statyczna, która nie jest powiązana z żadną instancją klasy ani nie działa w kontekście klasy.\n",
    "        Umożliwia jednak definiowanie funkcji w przestrzeni nazw klasy.\n",
    "\n",
    "        :param cats: Lista obiektów typu Cat.\n",
    "        :return: Brak wartości zwracanej.\n",
    "        \"\"\"\n",
    "        for cat in cats[:-1]:\n",
    "            print(cat._name, end=\", \")\n",
    "        print(f\"and {cats[-1]._name} are hanging out together!\")\n",
    "\n",
    "\n",
    "dog = Dog(\"Max\")\n",
    "print(dog.speak())\n",
    "\n",
    "cat1 = Cat(\"Jessie\")\n",
    "cat2 = Cat(\"Lessie\")\n",
    "cat3 = Cat(\"Bessie\")\n",
    "\n",
    "print(cat1.speak())  # Meow\n",
    "\n",
    "Cat.hang_out(cat1, cat2, cat3)"
   ]
  },
  {
   "cell_type": "markdown",
   "source": [
    "## Wielodziedziczenie\n",
    "Python umożliwia dziedziczenie po wielu klasach."
   ],
   "metadata": {
    "collapsed": false
   }
  },
  {
   "cell_type": "code",
   "execution_count": 6,
   "outputs": [
    {
     "name": "stdout",
     "output_type": "stream",
     "text": [
      "Flying\n",
      "Swimming\n",
      "Quack\n"
     ]
    }
   ],
   "source": [
    "class Flyer:\n",
    "    def fly(self) -> str:\n",
    "        return \"Flying\"\n",
    "\n",
    "\n",
    "class Swimmer:\n",
    "    def swim(self) -> str:\n",
    "        return \"Swimming\"\n",
    "\n",
    "\n",
    "class Duck(Flyer, Swimmer):\n",
    "    def quack(self) -> str:\n",
    "        return \"Quack\"\n",
    "\n",
    "\n",
    "duck = Duck()\n",
    "print(duck.fly())  # Flying\n",
    "print(duck.swim())  # Swimming\n",
    "print(duck.quack())  # Quack"
   ],
   "metadata": {
    "collapsed": false
   }
  },
  {
   "cell_type": "markdown",
   "source": [
    "## Klasy abstrakcyjne"
   ],
   "metadata": {
    "collapsed": false
   }
  },
  {
   "cell_type": "code",
   "execution_count": 7,
   "outputs": [
    {
     "name": "stdout",
     "output_type": "stream",
     "text": [
      "perfrom_processing(p1, 'Słowo') = 'SŁOWO'\n",
      "perfrom_processing(p2, 'Słowo') = 'słowo'\n"
     ]
    }
   ],
   "source": [
    "from abc import ABC, abstractmethod\n",
    "\n",
    "\"\"\"\n",
    "Klasa Abstrakcyjna: `WordProcessor` definiuje interfejs dla wszystkich procesorów słów.\n",
    "Oznacza to, że wszystkie klasy dziedziczące muszą implementować metodę process.\n",
    "\"\"\"\n",
    "\n",
    "\n",
    "class WordProcessor(ABC):\n",
    "\n",
    "    @abstractmethod\n",
    "    def process(self, word: str) -> str:\n",
    "        pass\n",
    "\n",
    "\n",
    "\"\"\"\n",
    "Klasy Konkretne: UpperCaseProcessor i LowerCaseProcessor to konkretne klasy,\n",
    "które implementują metodę `process` w sposób specyficzny dla swojego celu.\n",
    "\"\"\"\n",
    "\n",
    "\n",
    "class UpperCaseProcessor(WordProcessor):\n",
    "    def process(self, word: str) -> str:\n",
    "        return word.upper()\n",
    "\n",
    "\n",
    "class LowerCaseProcessor(WordProcessor):\n",
    "    def process(self, word: str) -> str:\n",
    "        return word.lower()\n",
    "\n",
    "\n",
    "\"\"\"\n",
    "Funkcja `perform_processing`: Umożliwia przetwarzanie słowa za pomocą dowolnego procesora słów,\n",
    "co daje elastyczność i możliwość łatwego rozszerzenia kodu w przyszłości.\n",
    "Dzięki temu, że określamy typ parametry `processor` jako `WordProcessor`, wymagamy,\n",
    "by posiadał wszystkie właściwości zdefiniowane w tej klasie, czyli zawsze ten argument posiada metodę `process`.\n",
    "\n",
    "Programista piszący metodę `perfrom_processing` nie musi wiedzieć, jak zaimplementowany jest argument `processor`,\n",
    "dla niego ważne jest, by posiadał metodę `process`, gdyż ją chce wykorzystać poniżej.\n",
    "\n",
    "Jeśli w przyszłości ktoś doda następną implementację WordProcessor, poniższa funkcja będzie \"z automatu\" działała\n",
    "dla nowej implementacji.\n",
    "\"\"\"\n",
    "\n",
    "\n",
    "def perfrom_processing(processor: WordProcessor, word: str):\n",
    "    return processor.process(word)\n",
    "\n",
    "\n",
    "p1 = UpperCaseProcessor()\n",
    "p2 = LowerCaseProcessor()\n",
    "\n",
    "print(f\"{perfrom_processing(p1, 'Słowo') = }\")\n",
    "print(f\"{perfrom_processing(p2, 'Słowo') = }\")\n"
   ],
   "metadata": {
    "collapsed": false
   }
  },
  {
   "cell_type": "markdown",
   "source": [
    "# Zadania\n"
   ],
   "metadata": {
    "collapsed": false
   }
  },
  {
   "cell_type": "markdown",
   "source": [
    "Zad 1\n",
    "\n",
    "Zaimplementowano funkcję, która oblicza całkę dowolnej funkcji w podanym przedziale. Funkcja ta przyjmuje obiekt reprezentujący instancję klasy abstrakcyjnej `Function`, która definiuje metodę `apply`. Metoda ta zwraca wartość funkcji w określonym punkcie.\n",
    "\n",
    "Napisać klasę będącą implementacją funkcji kwadratowej oraz funkcji eksponencjalnej. Obie niech dziedziczą po klasie Function. Każda z tych implementacji przyjmuje odpowiednie parametry i tworzy obiekt reprezentujący daną funkcję. Klasa musi implementować metodę `apply`.\n",
    "Wykonać poniższy kod w celu przetestowania, czy funkcja obliczająca całkę działa poprawnie dla customowej funkcji.\n",
    "\n",
    "Wzór funkcji kwadratowej:\n",
    "$f(x) = ax^2 + bx + c $\n",
    "\n",
    "Wzór funkcji eksponencjalnej:\n",
    "$f(x) = ae^{kx} $\n",
    "\n",
    "```\n",
    "Przykłady użycia\n",
    "qf = QuadraticFunction(a=-3, b=4, c=5)\n",
    "qf2 = QuadraticFunction(a=-2, b=0, c=-1)\n",
    "\n",
    "print(f\"{integrate(qf, -2, 2) = }\")\n",
    "print(f\"{integrate(qf2, -1, 1) = }\")\n",
    "\n",
    "ef = ExponentialFunction(a=3, k=-2)\n",
    "ef2 = ExponentialFunction(a=-2, k=-1)\n",
    "\n",
    "print(f\"{integrate(ef, -1, 1) = }\")\n",
    "print(f\"{integrate(ef2, -2, 1) = }\")\n",
    "```\n",
    "\n",
    "\n",
    "```\n",
    "integrate(qf, -2, 2) = 3.9967999999999995\n",
    "integrate(qf2, -1, 1) = -3.3336\n",
    "integrate(ef, -1, 1) = 10.882031929019162\n",
    "integrate(ef2, -2, 1) = -14.043406476219769\n",
    "```"
   ],
   "metadata": {
    "collapsed": false
   }
  },
  {
   "cell_type": "code",
   "execution_count": 8,
   "outputs": [],
   "source": [
    "from abc import ABC, abstractmethod\n",
    "import math\n",
    "\n",
    "\n",
    "class Function(ABC):\n",
    "    @abstractmethod\n",
    "    def apply(self, x):\n",
    "        pass\n",
    "\n",
    "\n",
    "def integrate(f: Function, start: int, end: int, n_intervals: int = 100):\n",
    "    \"\"\"Oblicza całkę metodą trapezów dla danej funkcji na zadanym przedziale.\"\"\"\n",
    "    step = (end - start) / n_intervals\n",
    "    total_area = 0.5 * (f.apply(start) + f.apply(end))\n",
    "\n",
    "    for i in range(1, n_intervals):\n",
    "        total_area += f.apply(start + i * step)\n",
    "\n",
    "    total_area *= step\n",
    "    return total_area"
   ],
   "metadata": {
    "collapsed": false
   }
  },
  {
   "cell_type": "markdown",
   "source": [],
   "metadata": {
    "collapsed": false
   }
  },
  {
   "cell_type": "markdown",
   "source": [
    "**W ramach kolejnych zadań tworzony będzie prosty model reprezentowania przedmiotów w grze. Tworzone klasy pozwolą na reprezentację własności przedmiotów, a także definiowania _receptur_, w formie struktury przechowującej informacje o przedmiotach wymaganych do ich stworzenia.**\n",
    "\n",
    "**Całe rozwiązanie należy stworzyć w pakiecie _game_. Klasy należy umieszczać w osobnych plikach. Stworzyć plik \\_\\_init\\_\\_.py i wyeksportować klasy konkretne na zewnątrz (przykład zawarty jest w folderze _przykładowy moduł_)**\n",
    "\n",
    "**Do każdego zadania należy dodać kod testowy w pliku main.py**"
   ],
   "metadata": {
    "collapsed": false
   }
  },
  {
   "cell_type": "markdown",
   "source": [
    "Zad 2.\n",
    "\n",
    "Zdefiniować klasę abstrakcyjną `Item` z atrybutami `name` (nazwa przedmiotu) oraz `price` (cena przedmiotu). Klasa ta powinna mieć metodę **abstrakcyjną** get_info, służącą do wyświetlenia informacji o przedmiocie.\n",
    "Niech atrybut `name` będzie niezmienialny. W przypadku podania pustego łańcucha znaków niech zostanie wyrzucony wyjątek `ValueError`.\n",
    "Niech atrybut `price` będzie modyfikowalny. W przypadku podania wartości ujemnej niech zostanie wyrzucony wyjątek `ValueError`."
   ],
   "metadata": {
    "collapsed": false
   }
  },
  {
   "cell_type": "markdown",
   "source": [
    "Zad 3.\n",
    "Utworzyć dwie klasy konkretne dziedziczące po klasie bazowej Item:\n",
    "1. Resource\n",
    "2. Product\n",
    "\n",
    "Nadpisać dla każdej klasy funkcje `get_info` tak, by zwracała napis informujący o szczegółach przedmiotu\n",
    "\n",
    "Przykładowe użycie:\n",
    "```\n",
    "iron = Resource(name=\"Iron ore\", price=\"2\")\n",
    "print(iron.get_info())\n",
    "print()\n",
    "\n",
    "iron_ingot = Product(name=\"Iron ingot\", price=\"50\")\n",
    "print(iron_ingot.get_info())\n",
    "```\n",
    "Oczekiwany rezultat:\n",
    "```\n",
    "Resource: Iron ore\n",
    "Price: 2\n",
    "\n",
    "Product: Iron ingot\n",
    "Price: 50\n",
    "```\n"
   ],
   "metadata": {
    "collapsed": false
   }
  },
  {
   "cell_type": "markdown",
   "source": [
    "Zad 4.\n",
    "Niech klasa Product przechowuje dodatkową składową - strukturę danych przechowującą informację o wymaganych składnikach i ich liczbie. Zmodyfikować funkcję `get_info` w klasie `Product` tak, by wypisywane były wszystkie składniki.\n",
    "\n",
    "Przykładowe użycie:\n",
    "```\n",
    "iron = Resource(name=\"Iron ore\", price=\"3\")\n",
    "print(iron.get_info())\n",
    "\n",
    "... # Uzupełnić\n",
    "\n",
    "iron_ingot = Product(name=\"Iron ingot\", price=\"50\", required_items={iron: 5})\n",
    "print(iron_ingot.get_info())\n",
    "\n",
    "... # Uzupełnić\n",
    "\n",
    "```\n",
    "\n",
    "Oczekiwany rezultat:\n",
    "```\n",
    "Resource: Iron ore\n",
    "Price: 3\n",
    "\n",
    "Resource: Coal\n",
    "Price: 2\n",
    "\n",
    "Product: Iron ingot\n",
    "Price: 50\n",
    "Resources needed:\n",
    "\tIron ore: 5\n",
    "\n",
    "\n",
    "Product: Steel ingot\n",
    "Price: 100\n",
    "Resources needed:\n",
    "\tIron ore: 1\n",
    "\tCoal: 10\n",
    "```"
   ],
   "metadata": {
    "collapsed": false
   }
  },
  {
   "cell_type": "markdown",
   "source": [
    "Zad 5.\n",
    "Dodać możliwość korzystania z operatorów `<, >, <=, >=` na obiektach. Niech porównywanie odbywa się po nazwie.\n"
   ],
   "metadata": {
    "collapsed": false
   }
  },
  {
   "cell_type": "markdown",
   "source": [
    "\\*Zad 5.\n",
    "Napisać metodę `get_total_resources()`, która wyznaczy rekurencyjnie słownik `Dict[Resource, int]` wszystkich zasobów potrzebnych do stworzenia przedmiotu.\n"
   ],
   "metadata": {
    "collapsed": false
   }
  }
 ],
 "metadata": {
  "kernelspec": {
   "display_name": "Python 3",
   "language": "python",
   "name": "python3"
  },
  "language_info": {
   "codemirror_mode": {
    "name": "ipython",
    "version": 2
   },
   "file_extension": ".py",
   "mimetype": "text/x-python",
   "name": "python",
   "nbconvert_exporter": "python",
   "pygments_lexer": "ipython2",
   "version": "2.7.6"
  }
 },
 "nbformat": 4,
 "nbformat_minor": 0
}
