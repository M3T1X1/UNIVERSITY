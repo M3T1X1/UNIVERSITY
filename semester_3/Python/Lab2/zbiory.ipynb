{
 "cells": [
  {
   "cell_type": "markdown",
   "source": [
    "# Zbiory w Pythonie\n",
    "Zbiór to nieuporządkowana kolekcja unikalnych elementów. Zbiory są definiowane za pomocą nawiasów klamrowych lub konstruktora set()."
   ],
   "metadata": {
    "collapsed": false
   }
  },
  {
   "cell_type": "code",
   "execution_count": 4,
   "outputs": [],
   "source": [
    "the_set = {1, 2, 3, 4}\n",
    "empty_set = set()  # Pusty zbiór\n",
    "another_set = set([3, 4, 5, 6])"
   ],
   "metadata": {
    "collapsed": false
   }
  },
  {
   "cell_type": "code",
   "execution_count": 4,
   "outputs": [
    {
     "name": "stdout",
     "output_type": "stream",
     "text": [
      "set([1, 2, 3, 4, 3, 2,]) = {1, 2, 3, 4}\n"
     ]
    }
   ],
   "source": [
    "print(f\"{set([1, 2, 3, 4, 3, 2,]) = }\") # Przy konstrukcji zbioru powtarzające się elementy są automatycznie usuwane"
   ],
   "metadata": {
    "collapsed": false
   }
  },
  {
   "cell_type": "markdown",
   "source": [
    "## Podstawowe operacje na zbiorach"
   ],
   "metadata": {
    "collapsed": false
   }
  },
  {
   "cell_type": "code",
   "execution_count": 5,
   "outputs": [
    {
     "name": "stdout",
     "output_type": "stream",
     "text": [
      "True\n",
      "4\n"
     ]
    }
   ],
   "source": [
    "the_set.add(5)  # Dodaje element 5 do zbioru\n",
    "the_set.remove(1)  # Usuwa element 1 ze zbioru (wyrzuca KeyError, jeśli nie znaleziono elementu)\n",
    "the_set.discard(10)  # Usuwa element 10, jeśli jest obecny, brak błędu, jeśli go nie ma\n",
    "print(2 in the_set)  # True, jeśli 2 jest w zbiorze, False w przeciwnym razie\n",
    "print(len(the_set))  # Liczba elementów w zbiorze"
   ],
   "metadata": {
    "collapsed": false
   }
  },
  {
   "cell_type": "markdown",
   "source": [],
   "metadata": {
    "collapsed": false
   }
  },
  {
   "cell_type": "markdown",
   "source": [
    "## Matematyczne operacje na zbiorach"
   ],
   "metadata": {
    "collapsed": false
   }
  },
  {
   "cell_type": "code",
   "execution_count": 8,
   "outputs": [
    {
     "name": "stdout",
     "output_type": "stream",
     "text": [
      "union = {1, 2, 3, 4, 5}\n",
      "intersection = {3}\n",
      "difference = {1, 2}\n",
      "symmetric_difference = {1, 2, 4, 5}\n"
     ]
    }
   ],
   "source": [
    "set1 = {1, 2, 3}\n",
    "set2 = {3, 4, 5}\n",
    "\n",
    "union = set1 | set2 # Suma zbiorów\n",
    "print(f\"{union = }\")\n",
    "\n",
    "intersection = set1 & set2 # Część wspólna\n",
    "print(f\"{intersection = }\")\n",
    "\n",
    "difference = set1 - set2  # Elementy w set1, ale nie w set2\n",
    "print(f\"{difference = }\")\n",
    "\n",
    "symmetric_difference = set1 ^ set2  # Elementy występujące w jednym ze zbiorów, ale nie w obu\n",
    "print(f\"{symmetric_difference = }\")"
   ],
   "metadata": {
    "collapsed": false
   }
  },
  {
   "cell_type": "markdown",
   "source": [
    "## Comprehension na zbiorach"
   ],
   "metadata": {
    "collapsed": false
   }
  },
  {
   "cell_type": "code",
   "execution_count": 9,
   "outputs": [
    {
     "name": "stdout",
     "output_type": "stream",
     "text": [
      "set_comprehension = {0, 1, 4, 9, 16}\n"
     ]
    }
   ],
   "source": [
    "set_comprehension = {x**2 for x in range(5)}\n",
    "print(f\"{set_comprehension = }\")"
   ],
   "metadata": {
    "collapsed": false
   }
  },
  {
   "cell_type": "markdown",
   "source": [
    "# Zadania"
   ],
   "metadata": {
    "collapsed": false
   }
  },
  {
   "cell_type": "markdown",
   "source": [
    "Zad 1. Zwrócić unikalne elementy z listy"
   ],
   "metadata": {
    "collapsed": false
   }
  },
  {
   "cell_type": "code",
   "execution_count": 10,
   "outputs": [],
   "source": [
    "the_list = [1, 2, 2, 3, 4, 4, 5]\n",
    "zbior = list(set(the_list))\n",
    "\n",
    "print(zbior)"
   ],
   "metadata": {
    "collapsed": false
   }
  },
  {
   "cell_type": "markdown",
   "source": [
    "Zad 2. Mając tablicę uporządkowanych wartości, stworzyć zbiór zawierający brakujące wartości"
   ],
   "metadata": {
    "collapsed": false
   }
  },
  {
   "cell_type": "code",
   "execution_count": 11,
   "outputs": [],
   "source": [
    "nums = [1, 3, 4, 6]\n",
    "pelny_zakres = set(range(min(nums), max(nums) + 1))\n",
    "\n",
    "print(pelny_zakres)\n"
   ],
   "metadata": {
    "collapsed": false
   }
  },
  {
   "cell_type": "markdown",
   "source": [
    "Zad 3.\n",
    "Stworzyć zbiór krotek zawierających pary liczb z listy `numbers`, które sumują się do wartości `target_sum`"
   ],
   "metadata": {
    "collapsed": false
   }
  },
  {
   "cell_type": "code",
   "execution_count": null,
   "outputs": [],
   "source": [
    "numbers = [2, 4, 3, 5, 7, 8, 9]\n",
    "target_sum = 10\n",
    "pary = set()\n",
    "\n",
    "for i in range(len(numbers)):\n",
    "    for j in range(i + 1, len(numbers)):\n",
    "        if numbers[i] + numbers[j] == target_sum:\n",
    "            pary.add((numbers[i], numbers[j]))\n",
    "\n",
    "print(pary)\n"
   ],
   "metadata": {
    "collapsed": false
   }
  },
  {
   "cell_type": "markdown",
   "source": [
    "Zad 4.\n",
    "Stworzyć słownik, gdzie kluczami są słowa, a wartościami są zbiory zawierające wszystkie inne słowa będące anagramami klucza.\n",
    "Wskazówka: użyć funkcji `sorted()` w procesie ustalania, czy słowa są anagramami"
   ],
   "metadata": {
    "collapsed": false
   }
  },
  {
   "cell_type": "code",
   "execution_count": 12,
   "outputs": [],
   "source": [
    "words = [\"listen\", \"silent\", \"enlist\", \"inlets\", \"hello\", \"below\", \"elbow\"]\n",
    "anagramy = {}\n",
    "\n",
    "for word in words:\n",
    "    klucz = ''.join(sorted(word))\n",
    "\n",
    "    if klucz in anagramy:\n",
    "        anagramy[klucz].add(word)\n",
    "    else:\n",
    "        anagramy[klucz] = {word}\n",
    "\n",
    "slownik_anagramow = {word: anagramy[''.join(sorted(word))] - {word} for word in words}\n",
    "\n",
    "print(slownik_anagramow)"
   ],
   "metadata": {
    "collapsed": false
   }
  },
  {
   "cell_type": "markdown",
   "source": [],
   "metadata": {
    "collapsed": false
   }
  }
 ],
 "metadata": {
  "kernelspec": {
   "display_name": "Python 3",
   "language": "python",
   "name": "python3"
  },
  "language_info": {
   "codemirror_mode": {
    "name": "ipython",
    "version": 2
   },
   "file_extension": ".py",
   "mimetype": "text/x-python",
   "name": "python",
   "nbconvert_exporter": "python",
   "pygments_lexer": "ipython2",
   "version": "2.7.6"
  }
 },
 "nbformat": 4,
 "nbformat_minor": 0
}
