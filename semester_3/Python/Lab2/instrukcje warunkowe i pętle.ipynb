{
 "cells": [
  {
   "cell_type": "markdown",
   "metadata": {
    "collapsed": false,
    "jupyter": {
     "outputs_hidden": false
    }
   },
   "source": [
    "# Instrukcje warunkowe"
   ]
  },
  {
   "cell_type": "code",
   "execution_count": 1,
   "metadata": {
    "collapsed": false,
    "jupyter": {
     "outputs_hidden": false
    }
   },
   "outputs": [
    {
     "name": "stdout",
     "output_type": "stream",
     "text": [
      "Podana liczba jest ujemna\n"
     ]
    }
   ],
   "source": [
    "import random\n",
    "\n",
    "a = input(\"Podaj liczbę\")   # Funkcja input zwraca łańcuch znaków\n",
    "a = float(a)\n",
    "\n",
    "if a > 0:\n",
    "    print(\"Podana liczba jest dodatnia\")\n",
    "elif a < 0:\n",
    "    print(\"Podana liczba jest ujemna\")\n",
    "else:\n",
    "    print(\"Podano zero\")"
   ]
  },
  {
   "cell_type": "markdown",
   "metadata": {
    "collapsed": false,
    "jupyter": {
     "outputs_hidden": false
    }
   },
   "source": [
    "## Pętla `For`"
   ]
  },
  {
   "cell_type": "code",
   "execution_count": 1,
   "metadata": {
    "collapsed": false,
    "jupyter": {
     "outputs_hidden": false
    }
   },
   "outputs": [
    {
     "name": "stdout",
     "output_type": "stream",
     "text": [
      "0 1 2 3 4 5 6 7 8 9 \n",
      "10 11 12 13 14 15 16 17 18 19 \n",
      "2 4 6 8 10 12 14 \n",
      "20 17 14 11 8 \n",
      "1 2 3 4 5 6 \n",
      "Nie wykonano żadnej iteracji\n"
     ]
    }
   ],
   "source": [
    "# Użycie pętli z range\n",
    "\n",
    "# range(n) generuje wartości od 0 do n-1\n",
    "for i in range(10):\n",
    "    print(i, end=\" \")\n",
    "print()\n",
    "\n",
    "# range(n, k) generuje wartości od n do k-1\n",
    "for i in range(10, 20):\n",
    "    print(i, end=\" \")\n",
    "print()\n",
    "\n",
    "# range(n, k, m) generuje wartości od n do k-1, z krokiem m\n",
    "for i in range(2, 16, 2):\n",
    "    print(i, end=\" \")\n",
    "print()\n",
    "\n",
    "# Wartość kroku może być ujemna\n",
    "for i in range(20, 5, -3):\n",
    "    print(i, end=\" \")\n",
    "print()\n",
    "\n",
    "# Można iterować po kolekcjach\n",
    "numbers = [1, 2, 3, 4, 5, 6]\n",
    "for elem in numbers:\n",
    "    print(elem, end=\" \")\n",
    "print()\n",
    "\n",
    "\"\"\"\n",
    "Ciekawą, choć rzadko wykorzystywaną konstrukcją jest for..else.\n",
    "Blok else zadziała wtedy, gdy nie wykona się żadna iteracja pętli.\n",
    "Kod w instrukcji else nie wykona się, jeśli wywołamy 'break' w pętli\n",
    "\"\"\"\n",
    "array = []\n",
    "\n",
    "for elem in array:\n",
    "    print(elem)\n",
    "else:\n",
    "    print(\"Nie wykonano żadnej iteracji\")"
   ]
  },
  {
   "cell_type": "markdown",
   "source": [
    "## Pętla while i instrukcja break\n",
    "Instrukcja 'break' skutkuje całkowitym przerwaniem pętli."
   ],
   "metadata": {
    "collapsed": false
   }
  },
  {
   "cell_type": "code",
   "execution_count": 4,
   "metadata": {},
   "outputs": [
    {
     "name": "stdout",
     "output_type": "stream",
     "text": [
      "Źle\n",
      "Źle\n",
      "Dobrze\n"
     ]
    }
   ],
   "source": [
    "while True:\n",
    "    x = input(\"Podaj wynik działania 2+2:\")\n",
    "    x = float(x)\n",
    "\n",
    "    if x == 4:\n",
    "        print(\"Dobrze\")\n",
    "        break\n",
    "\n",
    "    print(\"Źle\")"
   ]
  },
  {
   "cell_type": "markdown",
   "source": [
    "## Pętla while i instrukcja continue\n",
    "Wywołanie 'continue' powoduje przerwanie wykonania bieżącej iteracji pętli i kontynuację od następnej iteracji."
   ],
   "metadata": {
    "collapsed": false
   }
  },
  {
   "cell_type": "code",
   "execution_count": 3,
   "outputs": [
    {
     "name": "stdout",
     "output_type": "stream",
     "text": [
      "Źle\n",
      "Źle\n",
      "Dobrze\n"
     ]
    }
   ],
   "source": [
    "while True:\n",
    "    x = input(\"Podaj wynik działania 2+2:\")\n",
    "    x = float(x)\n",
    "\n",
    "    if x != 4:\n",
    "        print(\"Źle\")\n",
    "        continue\n",
    "\n",
    "    print(\"Dobrze\")\n",
    "    break"
   ],
   "metadata": {
    "collapsed": false
   }
  },
  {
   "cell_type": "markdown",
   "metadata": {
    "collapsed": false,
    "jupyter": {
     "outputs_hidden": false
    }
   },
   "source": [
    "## Zadania"
   ]
  },
  {
   "cell_type": "markdown",
   "metadata": {
    "collapsed": false,
    "jupyter": {
     "outputs_hidden": false
    }
   },
   "source": [
    "Zad 1\n",
    "Napisać program, który oblicza sumę liczb od 1 do 100, które są podzielne przez 3.\n",
    "Użyć pętli for oraz instrukcji warunkowych wewnątrz pętli"
   ]
  },
  {
   "cell_type": "code",
   "execution_count": 2,
   "metadata": {
    "collapsed": true,
    "jupyter": {
     "outputs_hidden": true
    }
   },
   "outputs": [
    {
     "name": "stdout",
     "output_type": "stream",
     "text": [
      "1683\n"
     ]
    }
   ],
   "source": [
    "suma: int = 0\n",
    "\n",
    "for i in range(1, 100):\n",
    "    if i % 3 == 0:\n",
    "        suma += i\n",
    "\n",
    "print(suma)"
   ]
  },
  {
   "cell_type": "markdown",
   "metadata": {
    "collapsed": false,
    "jupyter": {
     "outputs_hidden": false
    }
   },
   "source": [
    "Zad 2\n",
    "Napisać program, który oblicza sumę liczb od -50 do 100, które są podzielne przez 3 lub 5, ale nie są podzielne przez 7.\n",
    "Użyć pętli for oraz instrukcji warunkowych wewnątrz pętli"
   ]
  },
  {
   "cell_type": "code",
   "metadata": {
    "collapsed": false,
    "jupyter": {
     "outputs_hidden": false,
     "is_executing": true
    }
   },
   "source": [
    "suma = 0\n",
    "for i in range(-50,101):\n",
    "    if (i % 3 == 0 or i % 5 == 0) and i % 7 != 0:\n",
    "        suma = suma+i\n",
    "print(suma)"
   ],
   "outputs": [],
   "execution_count": null
  },
  {
   "cell_type": "markdown",
   "metadata": {
    "collapsed": false,
    "jupyter": {
     "outputs_hidden": false
    }
   },
   "source": [
    "Zad 3\n",
    "Napisać program, który sprawdza, czy dana liczba jest liczbą pierwszą. Użyć pętli i instrukcji warunkowej.\n",
    "Liczba pierwsza to liczba większa od 1, która dzieli się tylko przez 1 i samą siebie."
   ]
  },
  {
   "cell_type": "code",
   "execution_count": null,
   "metadata": {
    "collapsed": false,
    "jupyter": {
     "outputs_hidden": false
    }
   },
   "outputs": [],
   "source": [
    "liczba = int(input(\"Podaj liczbę: \"))\n",
    "\n",
    "if liczba > 1:\n",
    "    czy_pierwsza = True\n",
    "\n",
    "    for i in range(2, int(liczba ** 0.5) + 1):\n",
    "        if liczba % i == 0:\n",
    "            czy_pierwsza = False\n",
    "            break\n",
    "\n",
    "\n",
    "    if czy_pierwsza:\n",
    "        print(f\"Liczba {liczba} jest liczbą pierwszą.\")\n",
    "    else:\n",
    "        print(f\"Liczba {liczba} nie jest liczbą pierwszą.\")\n"
   ]
  },
  {
   "cell_type": "markdown",
   "metadata": {
    "collapsed": false,
    "jupyter": {
     "outputs_hidden": false
    }
   },
   "source": [
    "Zad 4:\n",
    "Użytkownik podaje dwie liczby: h oraz w. Skorzystać z instrukcji `input()`\n",
    "H określa wysokość prostokąta, w szerokość.\n",
    "\n",
    "Narysować prostokąt złożony z zer i z obwódką z gwiazdek, w sposób zaprezentowany w komentarzu niżej.\n",
    "\n",
    "Uwaga: instrukcja `print()` przyjmuje argument *end*, który pozwala na zmianę znaku dodawanego na koniec wyjścia.\n",
    "Domyślnie jest to znak nowej linii `\\n`, co powoduje wyświetlanie kolejnego wyjścia w następnej linii.\n",
    "Końcowy znak można zmienić lub go usunąć, ustawiając na wartość `\"\"`\n"
   ]
  },
  {
   "cell_type": "code",
   "execution_count": 3,
   "metadata": {
    "collapsed": false,
    "jupyter": {
     "outputs_hidden": false
    }
   },
   "outputs": [],
   "source": [
    "h = int(input(\"Podaj h: \"))\n",
    "w = int(input(\"Podaj w: \"))\n",
    "\n",
    "for i in range(h):\n",
    "    if i == 0 or i == h - 1:\n",
    "        print(\"*\" * w)\n",
    "    else:\n",
    "        print(\"*\", end=\"\")\n",
    "        print(\"0\" * (w - 2), end=\"\")\n",
    "        print(\"*\")"
   ]
  },
  {
   "cell_type": "markdown",
   "metadata": {},
   "source": [
    "Zad 5:\n",
    "Rozważmy prostą grę polegającą na zgadywaniu liczby od 1 do 100. Pierwszy gracz wymyśla liczbę, drugi próbuje ją zgadnąć. Drugi gracz zgaduje wartość, jeśli mu się uda, pierwszy gracz powiadamia go o tym, w przeciwnym wypadku oświadcza, czy podana liczba jest za mała, czy za duża. Gra kończy się, gdy drugi gracz zdanie liczbę.\n",
    "\n",
    "Należy napisać kod symulujący taką grę. W tym celu należy wylosować liczbę do zgadnięcia, a następnie napisać kod symulujący proces zgadywania drugiego gracza."
   ]
  },
  {
   "cell_type": "code",
   "execution_count": 17,
   "metadata": {},
   "outputs": [
    {
     "name": "stdout",
     "output_type": "stream",
     "text": [
      "60 to za dużo\n",
      "46 to za dużo\n",
      "10 to za mało\n",
      "34 to za dużo\n",
      "22 to za dużo\n",
      "15 to za dużo\n",
      "12 to za mało\n",
      "Sukces! Liczba to 13\n"
     ]
    }
   ],
   "source": [
    "import random\n",
    "\n",
    "liczba = random.randint(1, 100)\n",
    "zwyciestwo = 0\n",
    "\n",
    "while zwyciestwo != 1:\n",
    "    wyborGracza = int(input(\"Podaj liczbe: \"))\n",
    "    if wyborGracza > liczba:\n",
    "        print(f\"{wyborGracza} to za duzo\")\n",
    "    elif wyborGracza < liczba:\n",
    "        print(f\"{wyborGracza} to za malo\")\n",
    "    if wyborGracza == liczba:\n",
    "        print(\"Zgadłeś\")\n",
    "        zwyciestwo = 1"
   ]
  }
 ],
 "metadata": {
  "kernelspec": {
   "display_name": "Python 3 (ipykernel)",
   "language": "python",
   "name": "python3"
  },
  "language_info": {
   "codemirror_mode": {
    "name": "ipython",
    "version": 3
   },
   "file_extension": ".py",
   "mimetype": "text/x-python",
   "name": "python",
   "nbconvert_exporter": "python",
   "pygments_lexer": "ipython3",
   "version": "3.11.0"
  }
 },
 "nbformat": 4,
 "nbformat_minor": 4
}
