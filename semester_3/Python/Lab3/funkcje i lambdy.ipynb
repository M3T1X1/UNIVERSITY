{
 "cells": [
  {
   "cell_type": "markdown",
   "source": [
    "# Funkcje w języku Python"
   ],
   "metadata": {
    "collapsed": false
   }
  },
  {
   "cell_type": "markdown",
   "source": [
    "Deklaracja funkcji rozpoczyna się od słowa kluczowego def, po którym następuje nazwa funkcji oraz nawiasy zawierające argumenty wejściowe. Na końcu linii umieszczany jest dwukropek.\n",
    "Po nazwach argumentów można dodać dwukropek i określić ich typy. Po zamknięciu nawiasu można umieścić strzałkę (->), wskazującą typ zwracanej wartości."
   ],
   "metadata": {
    "collapsed": false
   }
  },
  {
   "cell_type": "code",
   "execution_count": 1,
   "metadata": {
    "collapsed": true
   },
   "outputs": [
    {
     "name": "stdout",
     "output_type": "stream",
     "text": [
      "add_numbers(3, 4) = 7\n",
      "add_numbers(a=3, b=4) = 7\n"
     ]
    }
   ],
   "source": [
    "# Podstawowa składnia deklaracji funkcji\n",
    "def add_nums(a, b):\n",
    "    return a + b\n",
    "\n",
    "\n",
    "# Deklaracja zawierająca typowanie\n",
    "def add_numbers(a: int, b: int) -> int:\n",
    "    \"\"\"Dodaje dwie liczby i zwraca wynik.\"\"\"\n",
    "    return a + b\n",
    "\n",
    "\n",
    "print(f\"{add_numbers(3, 4) = }\")\n",
    "print(f\"{add_numbers(a=3, b=4) = }\")  # Argumenty można podać jako wartości konkretnych słów kluczowych\n"
   ]
  },
  {
   "cell_type": "code",
   "execution_count": 2,
   "outputs": [
    {
     "name": "stdout",
     "output_type": "stream",
     "text": [
      "welcome('Artur', 'polish') = 'Cześć, Artur!'\n",
      "welcome('Artur') = 'Cześć, Artur!'\n",
      "welcome('Artur', language='english') = 'Hello, Artur!'\n"
     ]
    },
    {
     "ename": "ValueError",
     "evalue": "Unknown language: chinese",
     "output_type": "error",
     "traceback": [
      "\u001B[1;31m---------------------------------------------------------------------------\u001B[0m",
      "\u001B[1;31mValueError\u001B[0m                                Traceback (most recent call last)",
      "Cell \u001B[1;32mIn[2], line 22\u001B[0m\n\u001B[0;32m     20\u001B[0m \u001B[38;5;28mprint\u001B[39m(\u001B[38;5;124mf\u001B[39m\u001B[38;5;124m\"\u001B[39m\u001B[38;5;132;01m{\u001B[39;00mwelcome(\u001B[38;5;124m'\u001B[39m\u001B[38;5;124mArtur\u001B[39m\u001B[38;5;124m'\u001B[39m)\u001B[38;5;250m \u001B[39m\u001B[38;5;132;01m= }\u001B[39;00m\u001B[38;5;124m\"\u001B[39m)  \u001B[38;5;66;03m# Podanie argumentu `language` nie jest wymagane\u001B[39;00m\n\u001B[0;32m     21\u001B[0m \u001B[38;5;28mprint\u001B[39m(\u001B[38;5;124mf\u001B[39m\u001B[38;5;124m\"\u001B[39m\u001B[38;5;132;01m{\u001B[39;00mwelcome(\u001B[38;5;124m'\u001B[39m\u001B[38;5;124mArtur\u001B[39m\u001B[38;5;124m'\u001B[39m,\u001B[38;5;250m \u001B[39mlanguage\u001B[38;5;241m=\u001B[39m\u001B[38;5;124m'\u001B[39m\u001B[38;5;124menglish\u001B[39m\u001B[38;5;124m'\u001B[39m)\u001B[38;5;250m \u001B[39m\u001B[38;5;132;01m= }\u001B[39;00m\u001B[38;5;124m\"\u001B[39m)  \u001B[38;5;66;03m# Podanie argumentu po słowie kluczowym\u001B[39;00m\n\u001B[1;32m---> 22\u001B[0m \u001B[38;5;28mprint\u001B[39m(\u001B[38;5;124mf\u001B[39m\u001B[38;5;124m\"\u001B[39m\u001B[38;5;132;01m{\u001B[39;00m\u001B[43mwelcome\u001B[49m\u001B[43m(\u001B[49m\u001B[38;5;124;43m'\u001B[39;49m\u001B[38;5;124;43mArtur\u001B[39;49m\u001B[38;5;124;43m'\u001B[39;49m\u001B[43m,\u001B[49m\u001B[38;5;250;43m \u001B[39;49m\u001B[38;5;124;43m'\u001B[39;49m\u001B[38;5;124;43mchinese\u001B[39;49m\u001B[38;5;124;43m'\u001B[39;49m\u001B[43m)\u001B[49m\u001B[38;5;250m \u001B[39m\u001B[38;5;132;01m= }\u001B[39;00m\u001B[38;5;124m\"\u001B[39m)  \u001B[38;5;66;03m# Podanie nieobsługiwanej opcji\u001B[39;00m\n",
      "Cell \u001B[1;32mIn[2], line 16\u001B[0m, in \u001B[0;36mwelcome\u001B[1;34m(name, language)\u001B[0m\n\u001B[0;32m     14\u001B[0m     \u001B[38;5;28;01mreturn\u001B[39;00m \u001B[38;5;124mf\u001B[39m\u001B[38;5;124m\"\u001B[39m\u001B[38;5;124mHello, \u001B[39m\u001B[38;5;132;01m{\u001B[39;00mname\u001B[38;5;132;01m}\u001B[39;00m\u001B[38;5;124m!\u001B[39m\u001B[38;5;124m\"\u001B[39m\n\u001B[0;32m     15\u001B[0m \u001B[38;5;28;01melse\u001B[39;00m:\n\u001B[1;32m---> 16\u001B[0m     \u001B[38;5;28;01mraise\u001B[39;00m \u001B[38;5;167;01mValueError\u001B[39;00m(\u001B[38;5;124mf\u001B[39m\u001B[38;5;124m\"\u001B[39m\u001B[38;5;124mUnknown language: \u001B[39m\u001B[38;5;132;01m{\u001B[39;00mlanguage\u001B[38;5;132;01m}\u001B[39;00m\u001B[38;5;124m\"\u001B[39m)\n",
      "\u001B[1;31mValueError\u001B[0m: Unknown language: chinese"
     ]
    }
   ],
   "source": [
    "\"\"\"\n",
    "Wartość domyślna parametru funkcji\n",
    "W Pythonie nie ma mechanizmu przeciążania metod tak w jak w językach Java i C++.\n",
    "Zamiast tego możliwe jest korzystanie z domyślnych wartości zmiennych\n",
    "\"\"\"\n",
    "\n",
    "\n",
    "def welcome(name: str, language: str = \"polish\") -> str:\n",
    "    # Jeśli wartość parametru language ma wartość `None`, przyjmie wartość domyślną: \"polish\"\n",
    "    \"\"\"Zwraca powitanie w zależności od języka.\"\"\"\n",
    "    if language == \"polish\":\n",
    "        return f\"Cześć, {name}!\"\n",
    "    elif language == \"english\":\n",
    "        return f\"Hello, {name}!\"\n",
    "    else:\n",
    "        raise ValueError(f\"Unknown language: {language}\")\n",
    "\n",
    "\n",
    "print(f\"{welcome('Artur', 'polish') = }\")\n",
    "print(f\"{welcome('Artur') = }\")  # Podanie argumentu `language` nie jest wymagane\n",
    "print(f\"{welcome('Artur', language='english') = }\")  # Podanie argumentu po słowie kluczowym\n",
    "print(f\"{welcome('Artur', 'chinese') = }\")  # Podanie nieobsługiwanej opcji"
   ],
   "metadata": {
    "collapsed": false
   }
  },
  {
   "cell_type": "markdown",
   "source": [
    "## Arbitrary Arguments\n",
    "Funkcja z dowolną liczbą argumentów (argumenty te muszą znajdować się po)"
   ],
   "metadata": {
    "collapsed": false
   }
  },
  {
   "cell_type": "code",
   "execution_count": null,
   "outputs": [],
   "source": [
    "def perform_function(*numbers: int) -> int:\n",
    "    \"\"\"Zwraca sumę dowolnej liczby argumentów.\"\"\"\n",
    "    return sum(numbers)\n",
    "\n",
    "\n",
    "print(f\"{perform_function(3, 4, 5, 5, 6, 4, 6) = }\")\n",
    "print(f\"{perform_function(4, 56) = }\")"
   ],
   "metadata": {
    "collapsed": false
   }
  },
  {
   "cell_type": "markdown",
   "source": [
    "## Arbitrary Keyword Arguments\n",
    "Funkcja z dowolną liczbą argumentów kluczowych\n",
    "`**kwargs` oznacza dowolną liczbę argumentów klucz-wartość\n",
    "Można wybrać dowolną nazwę tego parametru, jednak dla konwencjonalności nazywa się go właśnie `kwargs`"
   ],
   "metadata": {
    "collapsed": false
   }
  },
  {
   "cell_type": "code",
   "execution_count": null,
   "outputs": [],
   "source": [
    "from typing import Union, List\n",
    "\n",
    "\n",
    "def information(name: str, **kwargs: Union[str, int, List[str]]) -> str:\n",
    "    \"\"\"Zwraca opis osoby na podstawie przekazanych argumentów kluczowych.\"\"\"\n",
    "    opis = f\"Name: {name}\\nInformacje:\\n\"\n",
    "    for klucz, wartosc in kwargs.items():\n",
    "        opis += f\"\\t{klucz.capitalize()}: {wartosc}\\n\"\n",
    "    return opis\n",
    "\n",
    "\n",
    "result = information(\"Jan\", wiek=30, miasto=\"Warszawa\", zawod=\"Programista\")\n",
    "print(result)\n",
    "\n",
    "result = information(\"Maria\", wiek=23, zainteresowania=['sport', 'nauka'])\n",
    "print(result)\n",
    "\n",
    "# result = information(\"Maria\", wiek=23, zainteresowania=[5, 'nauka'])  # Nie zgadza się z typowaniem\n",
    "# print(result)"
   ],
   "metadata": {
    "collapsed": false
   }
  },
  {
   "cell_type": "markdown",
   "source": [
    "## Funkcje rekurencyjne i cache\\'owanie wartości funkcji\n",
    "\n",
    "Python ma domyślny limit głębokości rekurencji, zwykle ustawiony na około 1000 wywołań. Głębsza rekurencja spowoduje błąd RecursionError. Można ten limit zmienić, ale nie zawsze jest to optymalne rozwiązanie.\n",
    "```\n",
    "import sys\n",
    "print(sys.getrecursionlimit())  # Sprawdza limit rekurencji\n",
    "sys.setrecursionlimit(2000)     # Zmienia limit\n",
    "```\n",
    "Kody rekurencyjne można optymalizować z pomocą dekoratora `@lru_cache()`\n",
    "Dekorator jest używany do optymalizacji funkcji poprzez zapamiętywanie wyników poprzednich wywołań funkcji. Działa na zasadzie pamięci podręcznej (cache), czyli przechowuje wyniki wywołań funkcji wraz z ich argumentami, co eliminuje potrzebę ponownego obliczania wyniku dla tych samych argumentów.\n",
    "\n",
    "Dekorator działa poprawnie pod warunkami, że:\n",
    "- funkcja jest deterministyczna, to znaczy dla tych samych wartości wejściowych zawsze zwraca ten sam rezultat.\n",
    "- funkcja jest czysta, to znaczy nie zmienia danych zewnętrznych, spoza swojego zakresu"
   ],
   "metadata": {
    "collapsed": false
   }
  },
  {
   "cell_type": "code",
   "execution_count": 4,
   "outputs": [],
   "source": [
    "from functools import lru_cache\n",
    "\n",
    "import time\n",
    "\n",
    "\n",
    "@lru_cache(maxsize=128)\n",
    "def fibo_cache(n: int) -> int:\n",
    "    \"\"\"\n",
    "    Funkcja obliczająca wartość ciągu Fibonacciego dla wartości n.\n",
    "    KORZYSTA Z CACHE\n",
    "    :param n:\n",
    "    :return:\n",
    "    \"\"\"\n",
    "    time.sleep(0.001)  # Dodatkowe spowolnienie\n",
    "\n",
    "    if n == 1 or n == 2:\n",
    "        return 1\n",
    "\n",
    "    return fibo_cache(n - 1) + fibo_cache(n - 2)\n",
    "\n",
    "\n",
    "def fibo(n: int) -> int:\n",
    "    \"\"\"\n",
    "    Funkcja obliczająca wartość ciągu Fibonacciego dla wartości n.\n",
    "    NIE KORZYSTA Z CACHE\n",
    "    :param n:\n",
    "    :return:\n",
    "    \"\"\"\n",
    "    time.sleep(0.001)  # Dodatkowe spowolnienie\n",
    "\n",
    "    if n == 1 or n == 2:\n",
    "        return 1\n",
    "\n",
    "    return fibo(n - 1) + fibo(n - 2)"
   ],
   "metadata": {
    "collapsed": false
   }
  },
  {
   "cell_type": "code",
   "execution_count": 7,
   "outputs": [
    {
     "name": "stdout",
     "output_type": "stream",
     "text": [
      "fibo(10) = 55\n",
      "elapsed time: 0.1256\n",
      "\n",
      "fibo_cache(10) = 55\n",
      "elapsed time: 0.0126\n"
     ]
    }
   ],
   "source": [
    "\"\"\"\n",
    "Test funkcji rekurencyjnej bez cache'owania\n",
    "\"\"\"\n",
    "start = time.time()\n",
    "print(f\"{fibo(10) = }\")\n",
    "print(f\"elapsed time: {(time.time() - start):.4f}\\n\")\n",
    "\n",
    "\"\"\"\n",
    "Test funkcji rekurencyjnej z cache'owaniem\n",
    "\"\"\"\n",
    "# Czyścimy cały cache funkcji\n",
    "fibo_cache.cache_clear()\n",
    "\n",
    "start = time.time()\n",
    "print(f\"{fibo_cache(10) = }\")\n",
    "print(f\"elapsed time: {(time.time() - start):.4f}\")"
   ],
   "metadata": {
    "collapsed": false
   }
  },
  {
   "cell_type": "markdown",
   "source": [
    "# Więcej przykładów z biblioteką typing"
   ],
   "metadata": {
    "collapsed": false
   }
  },
  {
   "cell_type": "code",
   "execution_count": null,
   "outputs": [],
   "source": [
    "from typing import List, Optional\n",
    "\n",
    "\n",
    "def find_element(lst: List[int], searched: int) -> Optional[int]:  # Zwracamy int lub None\n",
    "    \"\"\"\n",
    "    Zwraca indeks szukanego elementu w liście, jeśli go znajdzie.\n",
    "    W przeciwnym wypadku zwraca None.\n",
    "    \"\"\"\n",
    "    try:\n",
    "        return lst.index(searched)\n",
    "    except ValueError:\n",
    "        return None\n",
    "\n",
    "\n",
    "print(f\"{find_element([2, 3, 4, 5], 4)}\")\n",
    "print(f\"{find_element([2, 3, 4, 5], 7)}\")"
   ],
   "metadata": {
    "collapsed": false
   }
  },
  {
   "cell_type": "code",
   "execution_count": null,
   "outputs": [],
   "source": [
    "from typing import Dict\n",
    "\n",
    "\n",
    "def convert_currency(prices: Dict[str, float], rate: float) -> Dict[str, float]:\n",
    "    \"\"\"\n",
    "    Zwraca nowy słownik z cenami przeliczonymi po zadanym kursie.\n",
    "    \"\"\"\n",
    "    return {country: price * rate for country, price in prices.items()}\n",
    "\n",
    "\n",
    "result = convert_currency({\"USD\": 100, \"EUR\": 90}, 4.5)\n",
    "print(result)"
   ],
   "metadata": {
    "collapsed": false
   }
  },
  {
   "cell_type": "code",
   "execution_count": null,
   "outputs": [],
   "source": [
    "\"\"\"\n",
    "Nieznany lub dowolny typ wartości\n",
    "\"\"\"\n",
    "\n",
    "from typing import Any, List\n",
    "\n",
    "\n",
    "def print_elements(lista: List[Any]) -> None:\n",
    "    \"\"\"\n",
    "    Drukuje elementy listy niezależnie od ich typu.\n",
    "    \"\"\"\n",
    "    for element in lista:\n",
    "        print(element)\n",
    "\n",
    "\n",
    "print_elements([1, \"tekst\", 3.14, [1, 2, 3]])"
   ],
   "metadata": {
    "collapsed": false
   }
  },
  {
   "cell_type": "code",
   "execution_count": null,
   "outputs": [],
   "source": [
    "\"\"\"\n",
    "Jeden z kilku typów\n",
    "\"\"\"\n",
    "\n",
    "from typing import Union\n",
    "\n",
    "\n",
    "def add_numbers(a: Union[int, float], b: Union[int, float]) -> Union[int, float]:\n",
    "    return a + b\n",
    "\n",
    "\n",
    "print(f\"{add_numbers(3, 4) = }\")\n",
    "print(f\"{add_numbers(3, 4.5) = }\")"
   ],
   "metadata": {
    "collapsed": false
   }
  },
  {
   "cell_type": "markdown",
   "source": [
    "## Lambdy\n",
    "Lambdy to małe anonimowe funkcje, złożone z pojedynczego wyrażenia. Używa się ich zazwyczaj wtedy, gdy potrzebujemy użyć funkcji na krótki czas."
   ],
   "metadata": {
    "collapsed": false
   }
  },
  {
   "cell_type": "code",
   "execution_count": null,
   "outputs": [],
   "source": [
    "add = lambda x, y: x + y\n",
    "result = add(5, 3)\n",
    "print(result)"
   ],
   "metadata": {
    "collapsed": false
   }
  },
  {
   "cell_type": "code",
   "execution_count": null,
   "outputs": [],
   "source": [
    "\"\"\"\n",
    "Lambdę można wykorzystać jako definicję sposobu sortowania\n",
    "\"\"\"\n",
    "\n",
    "# Sortowanie listy krotek po drugim elemencie\n",
    "items = [(1, 'apple'), (2, 'banana'), (3, 'orange')]\n",
    "sorted_items = sorted(items, key=lambda item: item[1])  # Lambda jako klucz sortowania\n",
    "print(sorted_items)  # Wynik: [(1, 'apple'), (2, 'banana'), (3, 'orange')]"
   ],
   "metadata": {
    "collapsed": false
   }
  },
  {
   "cell_type": "code",
   "execution_count": null,
   "outputs": [],
   "source": [
    "\"\"\"\n",
    "Instrukcje map, filter, reduce\n",
    "\"\"\""
   ],
   "metadata": {
    "collapsed": false
   }
  },
  {
   "cell_type": "code",
   "execution_count": null,
   "outputs": [],
   "source": [
    "from functools import reduce\n",
    "\n",
    "# Zastosowanie lambdy, by podnieść do kwadratu każdy element listy\n",
    "numbers = [1, 2, 3, 4, 5]\n",
    "squared_numbers = list(map(lambda x: x ** 2, numbers))\n",
    "print(squared_numbers)  # Wynik: [1, 4, 9, 16, 25]\n",
    "\n",
    "# Zastosowanie lambdy, by wyfiltrować liczby parzyste\n",
    "numbers = [1, 2, 3, 4, 5, 6]\n",
    "even_numbers = list(filter(lambda x: x % 2 == 0, numbers))\n",
    "print(even_numbers)  # Wynik: [2, 4, 6]\n",
    "\n",
    "# Zastosowanie lambdy, by obliczyć iloczyn wszystkich elementów listy\n",
    "numbers = [1, 2, 3, 4]\n",
    "product = reduce(lambda x, y: x * y, numbers)\n",
    "print(product)  # Wynik: 24"
   ],
   "metadata": {
    "collapsed": false
   }
  },
  {
   "cell_type": "code",
   "execution_count": null,
   "outputs": [],
   "source": [
    "\"\"\"\n",
    "all, any\n",
    "\"\"\"\n",
    "# Sprawdzenie, czy wszystkie liczby w liście są większe od zera\n",
    "numbers = [1, 2, 3, 4]\n",
    "mask = list(map(lambda x: x > 0, numbers))\n",
    "print(f\"{mask = }\")\n",
    "\n",
    "all_positive = all(mask)  # All sprawdza, czy wszystkie elementy obiektu Iterable ewaluują do True\n",
    "print(all_positive)  # Wynik: True"
   ],
   "metadata": {
    "collapsed": false
   }
  },
  {
   "cell_type": "markdown",
   "source": [
    "## Zadania"
   ],
   "metadata": {
    "collapsed": false
   }
  },
  {
   "cell_type": "markdown",
   "source": [
    "Zad 1.\n",
    "Napisać kod, który używa lambdy oraz sorted(), aby posortować listę słów według drugiej litery w każdym słowie."
   ],
   "metadata": {
    "collapsed": false
   }
  },
  {
   "cell_type": "code",
   "execution_count": null,
   "outputs": [],
   "source": [
    "words = [\"apple\", \"banana\", \"grape\", \"cherry\"]"
   ],
   "metadata": {
    "collapsed": false
   }
  },
  {
   "cell_type": "markdown",
   "source": [
    "Zad 2.\n",
    "\n",
    "Napisz funkcję, która sprawdza, czy w danym ciągu znaków wszystkie nawiasy mają swoje odpowiedniki i są poprawnie zagnieżdżone.\n",
    "Można skorzystać z pomocniczej listy i jej funkcji `append()` i `pop()`.\n",
    "\n",
    "```\n",
    "print(check_parentheses(\"(a + b) * [c / d]\"))  # True\n",
    "print(check_parentheses(\"(a + b] * c\"))        # False\n",
    "```"
   ],
   "metadata": {
    "collapsed": false
   }
  },
  {
   "cell_type": "code",
   "execution_count": null,
   "outputs": [],
   "source": [],
   "metadata": {
    "collapsed": false
   }
  },
  {
   "cell_type": "markdown",
   "source": [
    "Zad 3.\n",
    "\n",
    "Napisz funkcję, która implementuje szyfr Cezara. Funkcja powinna przesuwać każdy znak w ciągu o określoną liczbę miejsc w alfabecie.\n",
    "\n",
    "`s.isalpha()` - sprawdza, czy ciąg znaków/jeden znak składa się z liter\n",
    "`ord(s: str)` - pzwraca kod _unicode_ litery\n",
    "`chr(n: int)` - zwraca literę o podanym kodzie _unicode_\n",
    "\n",
    "Przykład użycia:\n",
    "```\n",
    "print(caesar_cipher(\"Hello World!\", 3))  # \"Khoor Zruog!\"\n",
    "```"
   ],
   "metadata": {
    "collapsed": false
   }
  },
  {
   "cell_type": "code",
   "execution_count": null,
   "outputs": [],
   "source": [],
   "metadata": {
    "collapsed": false
   }
  },
  {
   "cell_type": "markdown",
   "source": [
    "Zad 4.\n",
    "Wykorzystując instrukcję `any()` oraz `map()` sprawdź, czy w poniższej liści znajduje się przynajmniej jedna wartość podzielna przez 5."
   ],
   "metadata": {
    "collapsed": false
   }
  },
  {
   "cell_type": "code",
   "execution_count": null,
   "outputs": [],
   "source": [
    "array = [1, 2, 3, 4, 5, 6, 7]"
   ],
   "metadata": {
    "collapsed": false
   }
  },
  {
   "cell_type": "markdown",
   "source": [
    "Zad 5.\n",
    "Wykorzystując lambdę wyznacz sumę maksymalnej wartości każdej z list"
   ],
   "metadata": {
    "collapsed": false
   }
  },
  {
   "cell_type": "code",
   "execution_count": null,
   "outputs": [],
   "source": [
    "lists = [[1, 2, 3], [4, 5], [6, 7, 8], [9]]"
   ],
   "metadata": {
    "collapsed": false
   }
  },
  {
   "cell_type": "markdown",
   "source": [
    "Zad 6.\n",
    "Napisz funkcję `get_formatter`, która przyjmuje jeden argument tekstowy określający rodzaj formatowania tekstu ('upper', 'lower', 'capitalize', 'title', lub 'reverse'). Funkcja powinna zwracać funkcję stosującą odpowiednie formatowanie do przekazanego jej tekstu.\n",
    "\n",
    "Operacje do zaimplementowania:\n",
    "\n",
    "'upper' – zamienia wszystkie litery na wielkie.\n",
    "'lower' – zamienia wszystkie litery na małe.\n",
    "'capitalize' – zamienia tylko pierwszy znak na wielką literę.\n",
    "'title' – zamienia pierwszy znak każdego słowa na wielką literę.\n",
    "'reverse' – odwraca tekst.\n",
    "\n",
    "Jeśli podany typ nie jest obsługiwany, funkcja powinna zgłosić wyjątek ValueError z odpowiednim komunikatem.\n",
    "\n",
    "Przykład użycia:\n",
    "```\n",
    "f = get_formatter('upper')\n",
    "print(f(\"hello world\"))  # \"HELLO WORLD\"\n",
    "print(f(\"This is TEXT\"))  # \"THIS IS TEXT\"\n",
    "\n",
    "f = get_formatter('reverse')\n",
    "print(f(\"Python\"))       # \"nohtyP\"\n",
    "```"
   ],
   "metadata": {
    "collapsed": false
   }
  },
  {
   "cell_type": "code",
   "execution_count": null,
   "outputs": [],
   "source": [],
   "metadata": {
    "collapsed": false
   }
  }
 ],
 "metadata": {
  "kernelspec": {
   "display_name": "Python 3",
   "language": "python",
   "name": "python3"
  },
  "language_info": {
   "codemirror_mode": {
    "name": "ipython",
    "version": 2
   },
   "file_extension": ".py",
   "mimetype": "text/x-python",
   "name": "python",
   "nbconvert_exporter": "python",
   "pygments_lexer": "ipython2",
   "version": "2.7.6"
  }
 },
 "nbformat": 4,
 "nbformat_minor": 0
}
