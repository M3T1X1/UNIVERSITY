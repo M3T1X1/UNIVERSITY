{
 "cells": [
  {
   "cell_type": "markdown",
   "source": [
    "# Obsługa plików\n"
   ],
   "metadata": {
    "collapsed": false
   }
  },
  {
   "cell_type": "code",
   "execution_count": 18,
   "outputs": [],
   "source": [
    "FILEPATH = \"./readthisfile.txt\""
   ],
   "metadata": {
    "collapsed": false
   }
  },
  {
   "cell_type": "markdown",
   "source": [
    "## Odczyt pliku\n",
    "Każda operacja na pliku odbywa się według poniższego schematu:\n",
    "1. Otwarcie strumienia pliku\n",
    "2. Odczyt i/lub zapis\n",
    "3. Zamknięcie strumienia\n",
    "\n",
    "Rekomendowaną sposobem obsługi plików jest wykorzystanie kontekstu `with`. Strumień zostanie automatycznie zamknięty, gdy interpreter opuści zakres kontekstu. ZAkmnięcie strumienia nastąpi również wówczas, gdy kod zostanie przerwany wyjątkiem.\n",
    "\n",
    "```\n",
    "with open(\"./readthisfile.txt\") as file:\n",
    "    print(file.read())\n",
    "```"
   ],
   "metadata": {
    "collapsed": false
   }
  },
  {
   "cell_type": "code",
   "execution_count": 8,
   "metadata": {
    "collapsed": true
   },
   "outputs": [
    {
     "name": "stdout",
     "output_type": "stream",
     "text": [
      "Litwo\n",
      "! Ojc\n",
      "zyzno moja! ty jesteś jak zdrowie.\n",
      "Ile cię trzeba cenić, ten tylko się dowie,\n",
      "Kto cię stracił. Dziś piękność twą w całej ozdobie\n",
      "Widzę i opisuję, bo tęsknię po tobie.\n",
      "Panno Święta, co Jasnej bronisz Częstochowy\n",
      "I w Ostrej świecisz Bramie! Ty, co gród zamkowy\n",
      "Nowogródzki ochraniasz z jego wiernym ludem!\n",
      "Jak mnie dziecko do zdrowia powróciłaś cudem\n",
      "(Gdy od płaczącej matki pod Twoję opiekę\n",
      "Ofiarowany, martwą podniosłem powiekę\n",
      "I zaraz mogłem pieszo do Twych świątyń progu\n",
      "Iść za wrócone życie podziękować Bogu),\n",
      "Tak nas powrócisz cudem na Ojczyzny łono.\n",
      "Tymczasem przenoś moję duszę utęsknioną\n",
      "Do tych pagórków leśnych, do tych łąk zielonych,\n",
      "Szeroko nad błękitnym Niemnem rozciągnionych;\n",
      "Do tych pól malowanych zbożem rozmaitem,\n",
      "Wyzłacanych pszenicą, posrebrzanych żytem;\n",
      "Gdzie bursztynowy świerzop, gryka jak śnieg biała,\n",
      "Gdzie panieńskim rumieńcem dzięcielina pała,\n",
      "A wszystko przepasane, jakby wstęgą, miedzą\n",
      "Zieloną, na niej z rzadka ciche grusze siedzą.\n"
     ]
    }
   ],
   "source": [
    "# Otwarcie strumienia pliku\n",
    "file = open(FILEPATH, encoding=\"UTF8\")\n",
    "\n",
    "# Wczytanie pięciu kolejnych znaków z pliku\n",
    "content = file.read(5)\n",
    "print(content)\n",
    "\n",
    "# Wczytanie pięciu kolejnych znaków z pliku\n",
    "content = file.read(5)\n",
    "print(content)\n",
    "\n",
    "# Wczytanie wszystkich znaków z pliku. W związku z tym, że ze strumienia już uprzednio czytano,\n",
    "# instrukcja read nie wczyta całego pliku, lecz to, co nie zostało przeczytane.\n",
    "content = file.read()\n",
    "print(content)\n",
    "\n",
    "# Zamknięcie strumienia pliku\n",
    "file.close()"
   ]
  },
  {
   "cell_type": "code",
   "execution_count": 10,
   "outputs": [
    {
     "name": "stdout",
     "output_type": "stream",
     "text": [
      "Litwo! Ojczyzno moja! ty jesteś jak zdrowie.\n",
      "\n",
      "Litwo! Ojczyzno moja! ty jesteś jak zdrowie.\n",
      "\n"
     ]
    }
   ],
   "source": [
    "\"\"\"\n",
    "Można jednocześnie otworzyć dwa strumienie do odczytu i niezależnie od siebie wczytywać treść tego samego pliku\n",
    "\"\"\"\n",
    "with open(FILEPATH, encoding=\"UTF8\") as file1, open(FILEPATH, encoding=\"UTF8\") as file2:\n",
    "    print(file1.readline())  # instrukcja readline umożliwia wczytywanie pliku linia po linii\n",
    "    print(file2.readline())\n"
   ],
   "metadata": {
    "collapsed": false
   }
  },
  {
   "cell_type": "code",
   "execution_count": 13,
   "outputs": [
    {
     "name": "stdout",
     "output_type": "stream",
     "text": [
      "Litwo! Ojczyzno moja! ty jesteś jak zdrowie.\n",
      "Ile cię trzeba cenić, ten tylko się dowie,\n",
      "Kto cię stracił. Dziś piękność twą w całej ozdobie\n",
      "Widzę i opisuję, bo tęsknię po tobie.\n",
      "Panno Święta, co Jasnej bronisz Częstochowy\n",
      "I w Ostrej świecisz Bramie! Ty, co gród zamkowy\n",
      "Nowogródzki ochraniasz z jego wiernym ludem!\n",
      "Jak mnie dziecko do zdrowia powróciłaś cudem\n",
      "(Gdy od płaczącej matki pod Twoję opiekę\n",
      "Ofiarowany, martwą podniosłem powiekę\n",
      "I zaraz mogłem pieszo do Twych świątyń progu\n",
      "Iść za wrócone życie podziękować Bogu),\n",
      "Tak nas powrócisz cudem na Ojczyzny łono.\n",
      "Tymczasem przenoś moję duszę utęsknioną\n",
      "Do tych pagórków leśnych, do tych łąk zielonych,\n",
      "Szeroko nad błękitnym Niemnem rozciągnionych;\n",
      "Do tych pól malowanych zbożem rozmaitem,\n",
      "Wyzłacanych pszenicą, posrebrzanych żytem;\n",
      "Gdzie bursztynowy świerzop, gryka jak śnieg biała,\n",
      "Gdzie panieńskim rumieńcem dzięcielina pała,\n",
      "A wszystko przepasane, jakby wstęgą, miedzą\n",
      "Zieloną, na niej z rzadka ciche grusze siedzą."
     ]
    }
   ],
   "source": [
    "\"\"\"\n",
    "Otworzenie pliku i wczytanie kolejnych linii z wykorzystaniem obiektu File jako generatora.\n",
    "\"\"\"\n",
    "with open(FILEPATH, encoding=\"UTF8\") as file:\n",
    "    for line in file:\n",
    "        print(line, end=\"\")"
   ],
   "metadata": {
    "collapsed": false
   }
  },
  {
   "cell_type": "markdown",
   "source": [
    "### Ustawianie pozycji deskryptora pliku instrukcją `seek()`\n",
    "Aby móc dowolnie przesuwać pozycję odczytu/zapisu w pliku, używa się funkcji `seek()`.\n",
    "\n",
    "- **Pierwszy argument**:\n",
    "   - Liczba całkowita określająca liczbę bajtów, o jaką ma być przesunięta pozycja deskryptora od punktu odniesienia.\n",
    "- **Drugi argument** (wartość domyślna: `0`):\n",
    "   - 0: Ustawienie pozycji deskryptora względem początku pliku.\n",
    "   - 1: Ustawienie pozycji deskryptora względem bieżącej pozycji w pliku.\n",
    "   - 2: Ustawienie pozycji deskryptora względem końca pliku."
   ],
   "metadata": {
    "collapsed": false
   }
  },
  {
   "cell_type": "code",
   "execution_count": 1,
   "outputs": [
    {
     "ename": "NameError",
     "evalue": "name 'FILEPATH' is not defined",
     "output_type": "error",
     "traceback": [
      "\u001B[1;31m---------------------------------------------------------------------------\u001B[0m",
      "\u001B[1;31mNameError\u001B[0m                                 Traceback (most recent call last)",
      "Cell \u001B[1;32mIn[1], line 2\u001B[0m\n\u001B[0;32m      1\u001B[0m \u001B[38;5;66;03m# UWAGA: ustawianie deskryptora na końcu lub względem bieżącej pozycji wymaga trybu odczytywania w bajtach\u001B[39;00m\n\u001B[1;32m----> 2\u001B[0m \u001B[38;5;28;01mwith\u001B[39;00m \u001B[38;5;28mopen\u001B[39m(\u001B[43mFILEPATH\u001B[49m, \u001B[38;5;124m\"\u001B[39m\u001B[38;5;124mrb\u001B[39m\u001B[38;5;124m\"\u001B[39m) \u001B[38;5;28;01mas\u001B[39;00m file:\n\u001B[0;32m      3\u001B[0m     file\u001B[38;5;241m.\u001B[39mseek(\u001B[38;5;241m10\u001B[39m, \u001B[38;5;241m0\u001B[39m)  \u001B[38;5;66;03m# Ustawienie pozycji deskryptora na dziesiąty znak od początku\u001B[39;00m\n\u001B[0;32m      4\u001B[0m     \u001B[38;5;28mprint\u001B[39m(file\u001B[38;5;241m.\u001B[39mread(\u001B[38;5;241m5\u001B[39m)\u001B[38;5;241m.\u001B[39mdecode(\u001B[38;5;124m\"\u001B[39m\u001B[38;5;124mUTF8\u001B[39m\u001B[38;5;124m\"\u001B[39m))  \u001B[38;5;66;03m# Wczytanie kolejnych pięciu znaków.\u001B[39;00m\n",
      "\u001B[1;31mNameError\u001B[0m: name 'FILEPATH' is not defined"
     ]
    }
   ],
   "source": [
    "# UWAGA: ustawianie deskryptora na końcu lub względem bieżącej pozycji wymaga trybu odczytywania w bajtach\n",
    "with open(FILEPATH, \"rb\") as file:\n",
    "    file.seek(10, 0)  # Ustawienie pozycji deskryptora na dziesiąty znak od początku\n",
    "    print(file.read(5).decode(\"UTF8\"))  # Wczytanie kolejnych pięciu znaków.\n",
    "\n",
    "    file.seek(-5, 1)  # Cofnięcie pozycji deskryptora o pięć miejsc względem pozycji bieżącej\n",
    "    print(file.read(5).decode(\"UTF8\"))  # Wczytanie kolejnych pięciu znaków.\n",
    "\n",
    "    file.seek(-10, 2)  # Ustawienie pozycji deskryptora na dziesiąty znak od końca.\n",
    "    print(file.read(10).decode(\"UTF8\"))  # Wczytanie ostatnich dziesięciu znaków"
   ],
   "metadata": {
    "collapsed": false
   }
  },
  {
   "cell_type": "markdown",
   "source": [
    "## Tworzenie i usuwanie plików"
   ],
   "metadata": {
    "collapsed": false
   }
  },
  {
   "cell_type": "code",
   "execution_count": 7,
   "outputs": [],
   "source": [
    "# Tworzenie pliku\n",
    "NEW_FILE_NAME = \"newfile.txt\"\n",
    "\n",
    "with open(NEW_FILE_NAME, mode=\"x\"):\n",
    "    pass\n"
   ],
   "metadata": {
    "collapsed": false
   }
  },
  {
   "cell_type": "code",
   "execution_count": 8,
   "outputs": [
    {
     "name": "stdout",
     "output_type": "stream",
     "text": [
      "File newfile.txt was successfully deleted\n"
     ]
    }
   ],
   "source": [
    "# Usuwanie pliku\n",
    "import os\n",
    "\n",
    "if os.path.exists(NEW_FILE_NAME):\n",
    "    os.remove(NEW_FILE_NAME)\n",
    "    print(f\"File {NEW_FILE_NAME} was successfully deleted\")\n",
    "else:\n",
    "    print(f\"File {NEW_FILE_NAME} does not exist\")"
   ],
   "metadata": {
    "collapsed": false
   }
  },
  {
   "cell_type": "markdown",
   "source": [
    "## Pisanie do pliku"
   ],
   "metadata": {
    "collapsed": false
   }
  },
  {
   "cell_type": "code",
   "execution_count": 17,
   "outputs": [
    {
     "name": "stdout",
     "output_type": "stream",
     "text": [
      "file.writable() = False\n",
      "Zawartość pliku write.txt:\n",
      "text\n",
      "linia 1\n",
      "linia 2\n",
      "linia 3\n",
      "\n"
     ]
    }
   ],
   "source": [
    "WRITE_DEMO_FILEPATH = \"write.txt\"\n",
    "\n",
    "\"\"\"\n",
    "Otwarcie\n",
    "\"\"\"\n",
    "with open(WRITE_DEMO_FILEPATH, mode=\"w\") as file:\n",
    "    file.write(\"text\\n\")\n",
    "    file.writelines([\n",
    "        \"linia 1\\n\",\n",
    "        \"linia 2\\n\",\n",
    "        \"linia 3\\n\"\n",
    "    ])\n",
    "\n",
    "with open(WRITE_DEMO_FILEPATH, mode=\"r\") as file:\n",
    "    print(f\"{file.writable() = }\")  # W ten sposób można sprawdzić, czy możliwe jest pisanie do pliku.\n",
    "    print(f\"Zawartość pliku {file.name}:\")\n",
    "    print(file.read())"
   ],
   "metadata": {
    "collapsed": false
   }
  },
  {
   "cell_type": "markdown",
   "source": [
    "## Zadania"
   ],
   "metadata": {
    "collapsed": false
   }
  },
  {
   "cell_type": "markdown",
   "source": [
    "Zad 1.\n",
    "Stworzyć klasę Employee, która zawiera informacje takie jak dane osobowe, pensja i stanowisko\n",
    "Następnie dodać następujące metody:\n",
    "- `to_csv_string(self)` - metoda zwraca dane pracownika jako wiersz pliku csv - poszczególne dane pracownika są łańcuchem znaków po przecinku\n",
    "- `to_file(file_handle, Employee[])` - metoda **statyczna**, która zapisuje listę pracowników do pliku jako wiersze csv. Uprzednio niech sprawdza, czy deskryptor pliku obsługuje pisanie.\n",
    "- `from_file(file_handle)` - metoda **statyczna**, która wczytuje wiersze pliku csv i zwraca listę obiektów typu pracownik\n",
    "- `sort(file_handle, key: Callable[[Person], Any])` - metoda **statyczna**, która wczyta zawartość pliku, posortuje wiersze według podanego predykatu (lambdy), a następnie nadpisze zawartość pliku według nowego porządku. Niech funkcja sprawdza, czy podany deskryptor umożliwia odczyt i zapis."
   ],
   "metadata": {
    "collapsed": false
   }
  },
  {
   "cell_type": "code",
   "execution_count": 16,
   "outputs": [],
   "source": [
    "import csv\n",
    "from typing import Callable\n",
    "\n",
    "import file\n",
    "\n",
    "\n",
    "class Employee:\n",
    "\n",
    "    def __init__(self, name, salary,position):\n",
    "        self.name = name\n",
    "        self.salary = salary\n",
    "        self.position = position\n",
    "\n",
    "        pracownik01 = Employee(\"Andrzej\",120000,\"programer\")\n",
    "\n",
    "    def to_csv_string(self):\n",
    "        return f\"{self.name},{self.salary},{self.position}\"\n",
    "\n",
    "    @staticmethod\n",
    "    def to_file(file_handle,employee:list['Employee']):\n",
    "        for e in employee:\n",
    "            file.write(e.to_csv_string())\n",
    "\n",
    "    @staticmethod\n",
    "    def from_file(file_handle):\n",
    "        try:\n",
    "            file_handle.open(\"r\")\n",
    "        except FileNotFoundError:\n",
    "            print(\"File not found\")\n",
    "\n",
    "        employees = []\n",
    "        reader = csv.reader(file_handle)\n",
    "        for row in reader:\n",
    "            if row:\n",
    "                name, salary, position = row\n",
    "                employees.append(Employee(name, salary, position))\n",
    "        return employees\n"
   ],
   "metadata": {
    "collapsed": false
   }
  },
  {
   "cell_type": "markdown",
   "source": [
    "Zad 2.\n",
    "Stworzyć aplikację konsolową (w pliku .py), który będzie realizowała obsługę plików.\n",
    "\n",
    "Niech program będzie uruchamiany z linii komend. Pierwszym argumentem będzie nazwa użytkownika, drugim zaś jego hasło.\n",
    "**Przykład podawania argumentów wywołania programu zawarty jest w pliku pass_args_example**\n",
    "W przypadku błędnego uruchomienia programu, podać stosowną informację.\n",
    "\n",
    "Program będzie oparty na nieskończonej pętli. W każdym kroku użytkownik będzie podawał jedną z komend:\n",
    "- `read <filename>` - komenda pozwoli wypisać zawartość pliku\n",
    "- `write <filename> <content>` - komenda pozwoli pisać do pliku wprowadzony tekst. Tekst powinien znajdować się w cudzysłowie.\n",
    "- `append <filename> <content>` - komenda pozwoli dodać nowe linie do istniejącego pliku\n",
    "- `delete <filename>` - komenda usunie plik\n",
    "- `quit` - komenda przerwie pętlę programu"
   ],
   "metadata": {
    "collapsed": false
   }
  },
  {
   "cell_type": "markdown",
   "source": [
    "Zad 3.\n",
    "Skonfigurować logger obecny w pakiecie logging.\n",
    "\n",
    "```\n",
    "logging.basicConfig(\n",
    "    filename=\"app.log\",                                     # Ścieżka do pliku z logami\n",
    "    level=logging.INFO,                                     # Domyślny poziom logów\n",
    "    format=\"%(asctime)s - %(levelname)s - %(message)s\",     # Format logów\n",
    "    filemode=\"a\"                                            # Tryb append zapewnia, że przy każdym uruchomieniu nowe logi\n",
    "                                                            # będą dopisywane do pliku i nie nadpiszą poprzednich\n",
    ")\n",
    "logger = logging.getLogger()\n",
    "```\n",
    "\n",
    "Niech logger zapisuje logi programu z zadania 2 do pliku `app.log`:\n",
    "- log poziomu `info` w przypadku, gdy użytkownik uruchamia program lub go zamyka\n",
    "- log ze szczegółami operacji i nazwą uzytkownika, gdy użytkownik wywoła prawidłowe polecenie\n",
    "- log poziomy `warning ` w przypadku, gdy użytkownik wywoła nieistniejącą komendę\n",
    "Należy uniemożliwić użytkownikowi modyfikowanie pliku, który wykorzystywany jest przez program do logowania."
   ],
   "metadata": {
    "collapsed": false
   }
  },
  {
   "cell_type": "markdown",
   "source": [
    "*Zad 4.\n",
    "Napisz program, który analizuje logi z końca dużego pliku logów serwera, wyciągając tylko ostatnie `n` linijek. Zaimplementuj funkcję, która wczytuje wybrany zakres linijek, zaczynając od końca pliku. Plik może być bardzo duży, więc wykorzystaj metodę seek() do szybkiego przeszukiwania bez wczytywania całego pliku do pamięci.\n",
    "\n",
    "Podpowiedź:\n",
    "- Funkcja file.tell() może być pomocna, aby sprawdzić aktualną pozycję deskryptora.\n",
    "- Wczytuj dane fragmentami od końca pliku, a następnie szukaj separatorów linijek, aby zidentyfikować poszczególne linie.\n",
    "\n",
    "Przykład użycia:\n",
    "```\n",
    "log = tail_log(\"./server.log\")\n",
    "print(log)\n",
    "```\n",
    "\n",
    "\n",
    "Przykładowe wyjście:\n",
    "```\n",
    "2024-10-29 10:30:10 INFO User123 Attempted access to \"restricted_area\"\n",
    "2024-10-29 10:35:22 WARN User789 High memory usage detected\n",
    "2024-10-29 10:40:33 INFO User456 Uploaded file \"presentation.pptx\"\n",
    "2024-10-29 10:42:05 INFO User789 Deleted file \"old_report.pdf\"\n",
    "2024-10-29 10:50:47 ERROR User123 Permission denied\n",
    "```"
   ],
   "metadata": {
    "collapsed": false
   }
  }
 ],
 "metadata": {
  "kernelspec": {
   "display_name": "Python 3",
   "language": "python",
   "name": "python3"
  },
  "language_info": {
   "codemirror_mode": {
    "name": "ipython",
    "version": 2
   },
   "file_extension": ".py",
   "mimetype": "text/x-python",
   "name": "python",
   "nbconvert_exporter": "python",
   "pygments_lexer": "ipython2",
   "version": "2.7.6"
  }
 },
 "nbformat": 4,
 "nbformat_minor": 0
}
