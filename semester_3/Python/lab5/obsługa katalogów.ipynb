{
 "cells": [
  {
   "cell_type": "markdown",
   "source": [
    "# Obsługa katalogów i plików"
   ],
   "metadata": {
    "collapsed": false
   }
  },
  {
   "cell_type": "markdown",
   "source": [
    "## Tworzenie katalogów\n",
    "\n",
    "Funkcja `os.makedirs` tworzy katalogi w podanej ścieżce, jeśli jeszcze nie istnieją. Przykładowo, jeśli `PATH` to `\"path/to/dir\"`, funkcja utworzy katalog `path`, potem `to`, a na końcu `dir`.\n",
    "\n",
    "- Gdy dowolny z katalogów już istnieje, `makedirs` go pomija. Jeśli cały `PATH` już istnieje, można użyć `os.makedirs(PATH, exist_ok=True)`, by uniknąć błędu.\n",
    "- Ścieżka absolutna, np. `/path/to/dir`, utworzy katalogi od katalogu głównego, natomiast ścieżka względna, np. `path/to/dir`, będzie tworzona względem bieżącego katalogu roboczego.\n",
    "\n",
    "Funkcja `os.path.join` łączy fragmenty ścieżki, tworząc poprawną ścieżkę w zależności od systemu operacyjnego. Na przykład, `\"path\", \"to\", \"dir2\"` zostaną połączone w `\"path/to/dir2\"` na systemach Unixowych lub `\"path\\to\\dir2\"` na Windowsie.\n"
   ],
   "metadata": {
    "collapsed": false
   }
  },
  {
   "cell_type": "code",
   "execution_count": 7,
   "outputs": [],
   "source": [
    "import os\n",
    "\n",
    "PATH = \"path/to/dir\"\n",
    "os.makedirs(PATH)\n",
    "\n",
    "path = os.path.join(\"path\", \"to\", \"dir2\")\n",
    "os.makedirs(path)"
   ],
   "metadata": {
    "collapsed": false
   }
  },
  {
   "cell_type": "markdown",
   "source": [
    "## Usuwanie katalogów\n",
    "Funkcja `os.rmdir` usuwa wskazany katalog `PATH`, ale działa tylko na pustych katalogach. Jeśli podana ścieżka zawiera przynajmniej jeden plik, katalog nie zostanie usunięty.\n",
    "Funkcja `shutil.rmtree` usunie wskazany katalog z całą zawartością, nawet z plikami.\n"
   ],
   "metadata": {
    "collapsed": false
   }
  },
  {
   "cell_type": "code",
   "execution_count": 3,
   "outputs": [
    {
     "ename": "NameError",
     "evalue": "name 'PATH' is not defined",
     "output_type": "error",
     "traceback": [
      "\u001B[1;31m---------------------------------------------------------------------------\u001B[0m",
      "\u001B[1;31mNameError\u001B[0m                                 Traceback (most recent call last)",
      "Cell \u001B[1;32mIn[3], line 1\u001B[0m\n\u001B[1;32m----> 1\u001B[0m os\u001B[38;5;241m.\u001B[39mrmdir(\u001B[43mPATH\u001B[49m)\n\u001B[0;32m      2\u001B[0m os\u001B[38;5;241m.\u001B[39mrmdir(path)\n\u001B[0;32m      4\u001B[0m \u001B[38;5;28;01mimport\u001B[39;00m \u001B[38;5;21;01mshutil\u001B[39;00m\n",
      "\u001B[1;31mNameError\u001B[0m: name 'PATH' is not defined"
     ]
    }
   ],
   "source": [
    "os.rmdir(PATH)\n",
    "os.rmdir(path)\n",
    "\n",
    "import shutil\n",
    "\n",
    "shutil.rmtree(PATH)"
   ],
   "metadata": {
    "collapsed": false
   }
  },
  {
   "cell_type": "markdown",
   "source": [],
   "metadata": {
    "collapsed": false
   }
  },
  {
   "cell_type": "markdown",
   "source": [
    "## Przeglądanie katalogów"
   ],
   "metadata": {
    "collapsed": false
   }
  },
  {
   "cell_type": "code",
   "execution_count": 3,
   "metadata": {
    "collapsed": true
   },
   "outputs": [
    {
     "name": "stdout",
     "output_type": "stream",
     "text": [
      "os.path.exists(PATH) = False \n",
      "os.path.isdir(PATH) = False \n",
      "os.path.isfile(PATH) = False \n"
     ]
    }
   ],
   "source": [
    "\"\"\"\n",
    "Sprawdzanie, czy dana ścieżka odnosi się do pliku, czu katalogu\n",
    "\"\"\"\n",
    "print(f\"{os.path.exists(PATH) = } \")\n",
    "print(f\"{os.path.isdir(PATH) = } \")\n",
    "print(f\"{os.path.isfile(PATH) = } \")"
   ]
  },
  {
   "cell_type": "code",
   "execution_count": 4,
   "outputs": [
    {
     "data": {
      "text/plain": "['app.log',\n 'obsługa katalogów.ipynb',\n 'obsługa plików.ipynb',\n 'pass_args_example.py',\n 'path',\n 'readthisfile.txt',\n 'server.log',\n 'write.txt']"
     },
     "execution_count": 4,
     "metadata": {},
     "output_type": "execute_result"
    }
   ],
   "source": [
    "\"\"\"\n",
    "os.listdir zwraca listę zawierającą nazwy plików i katalogów znajdujących się bezpośrednio w podanym katalogu, bez rekurencyjnego przeglądania podkatalogów.\n",
    "\"\"\"\n",
    "os.listdir()"
   ],
   "metadata": {
    "collapsed": false
   }
  },
  {
   "cell_type": "markdown",
   "source": [
    "### Główne atrybuty i metody `DirEntry`\n",
    "\n",
    "- **`name`** - Nazwa pliku lub katalogu (bez pełnej ścieżki).\n",
    "\n",
    "- **`path`** - Pełna ścieżka do pliku lub katalogu.\n",
    "\n",
    "- **`inode()`** - Zwraca numer inode (identyfikator pliku/katalogu na dysku), jeśli system plików na to pozwala.\n",
    "\n",
    "- **`is_dir(follow_symlinks=True)`** - Zwraca `True`, jeśli wpis jest katalogiem. `follow_symlinks` (domyślnie `True`) określa, czy sprawdzać cel symlinków.\n",
    "\n",
    "- **`is_file(follow_symlinks=True)`** - Zwraca `True`, jeśli wpis jest plikiem. `follow_symlinks` określa, czy sprawdzać cel symlinków.\n",
    "\n",
    "- **`is_symlink()`** - Zwraca `True`, jeśli wpis jest dowiązaniem symbolicznym (symlinkiem).\n",
    "\n",
    "- **`stat(follow_symlinks=True)`** - Zwraca szczegółowe informacje o pliku/katalogu (np. rozmiar, prawa dostępu) jako `os.stat_result`.\n",
    "\n",
    "- **`__repr__()`** - Reprezentacja `DirEntry` do debugowania i wyświetlania nazwy wpisu. Przykład: `<DirEntry 'filename'>`"
   ],
   "metadata": {
    "collapsed": false
   }
  },
  {
   "cell_type": "code",
   "execution_count": 2,
   "outputs": [
    {
     "name": "stdout",
     "output_type": "stream",
     "text": [
      "Name: obsługa katalogów.ipynb\n",
      "Path: .\\obsługa katalogów.ipynb\n",
      "Is Directory: False\n",
      "Is File: True\n",
      "Is Symlink: False\n",
      "Stat: os.stat_result(st_mode=33206, st_ino=0, st_dev=0, st_nlink=0, st_uid=0, st_gid=0, st_size=18103, st_atime=1731423462, st_mtime=1731423462, st_ctime=1731423462)\n",
      "========================================\n",
      "Name: obsługa plików.ipynb\n",
      "Path: .\\obsługa plików.ipynb\n",
      "Is Directory: False\n",
      "Is File: True\n",
      "Is Symlink: False\n",
      "Stat: os.stat_result(st_mode=33206, st_ino=0, st_dev=0, st_nlink=0, st_uid=0, st_gid=0, st_size=16971, st_atime=1731422850, st_mtime=1731422850, st_ctime=1731422850)\n",
      "========================================\n",
      "Name: pass_args_example.py\n",
      "Path: .\\pass_args_example.py\n",
      "Is Directory: False\n",
      "Is File: True\n",
      "Is Symlink: False\n",
      "Stat: os.stat_result(st_mode=33206, st_ino=0, st_dev=0, st_nlink=0, st_uid=0, st_gid=0, st_size=402, st_atime=1731350466, st_mtime=1731350466, st_ctime=1731057450)\n",
      "========================================\n",
      "Name: readthisfile.txt\n",
      "Path: .\\readthisfile.txt\n",
      "Is Directory: False\n",
      "Is File: True\n",
      "Is Symlink: False\n",
      "Stat: os.stat_result(st_mode=33206, st_ino=0, st_dev=0, st_nlink=0, st_uid=0, st_gid=0, st_size=1065, st_atime=1731054445, st_mtime=1730906540, st_ctime=1730902216)\n",
      "========================================\n",
      "Name: server.log\n",
      "Path: .\\server.log\n",
      "Is Directory: False\n",
      "Is File: True\n",
      "Is Symlink: False\n",
      "Stat: os.stat_result(st_mode=33206, st_ino=0, st_dev=0, st_nlink=0, st_uid=0, st_gid=0, st_size=1169, st_atime=1731422010, st_mtime=1731055379, st_ctime=1731055367)\n",
      "========================================\n"
     ]
    }
   ],
   "source": [
    "import os\n",
    "\n",
    "for entry in os.scandir():\n",
    "    print(f\"Name: {entry.name}\")\n",
    "    print(f\"Path: {entry.path}\")\n",
    "    print(f\"Is Directory: {entry.is_dir()}\")\n",
    "    print(f\"Is File: {entry.is_file()}\")\n",
    "    print(f\"Is Symlink: {entry.is_symlink()}\")\n",
    "    print(f\"Stat: {entry.stat()}\")\n",
    "    print(\"=\" * 40)"
   ],
   "metadata": {
    "collapsed": false
   }
  },
  {
   "cell_type": "markdown",
   "source": [],
   "metadata": {
    "collapsed": false
   }
  },
  {
   "cell_type": "code",
   "execution_count": 8,
   "outputs": [
    {
     "name": "stdout",
     "output_type": "stream",
     "text": [
      "root='.',\n",
      "\tdirs=['path'],\n",
      "\tfiles=['app.log', 'obsługa katalogów.ipynb', 'obsługa plików.ipynb', 'pass_args_example.py', 'readthisfile.txt', 'server.log', 'write.txt']\n",
      "\n",
      "root='.\\\\path',\n",
      "\tdirs=['to'],\n",
      "\tfiles=[]\n",
      "\n",
      "root='.\\\\path\\\\to',\n",
      "\tdirs=['dir', 'dir2'],\n",
      "\tfiles=[]\n",
      "\n",
      "root='.\\\\path\\\\to\\\\dir',\n",
      "\tdirs=[],\n",
      "\tfiles=[]\n",
      "\n",
      "root='.\\\\path\\\\to\\\\dir2',\n",
      "\tdirs=[],\n",
      "\tfiles=[]\n",
      "\n"
     ]
    }
   ],
   "source": [
    "\"\"\"\n",
    "Funkcja os.walk w Pythonie służy do rekursywnego przeglądania katalogów, ich podkatalogów i wszystkich znajdujących się w nich plików. Jest przydatna, gdy chcemy uzyskać pełną strukturę katalogu oraz wykonać operacje na plikach w zagnieżdżonych katalogach.\n",
    "\"\"\"\n",
    "for root, dirs, files in os.walk(\".\"):\n",
    "    print(f\"{root=},\\n\\t{dirs=},\\n\\t{files=}\\n\")"
   ],
   "metadata": {
    "collapsed": false
   }
  },
  {
   "cell_type": "markdown",
   "source": [
    "## Przenoszenie i kopiowanie plików i katalogów\n",
    "Moduł shutil w Pythonie oferuje różne metody kopiowania plików, z których każda ma specyficzne funkcjonalności i zastosowania:\n",
    "\n",
    "Kwestia kopiowania metadanych ma znaczenie przy zachowywaniu historii plików oraz atrybutów bezpieczeństwa. W zależności od zastosowania:\n",
    "\n",
    "- Zachowanie historii i analizy: `copy2` jest najwygodniejszym wyborem, ponieważ przenosi pełen zestaw atrybutów czasowych, co może być kluczowe w systemach wersjonowania lub archiwizacji.\n",
    "\n",
    "- Uprawnienia dostępu: jeśli istotne są wyłącznie prawa dostępu, `copy` wystarcza.\n",
    "\n",
    "- Minimalne kopiowanie: gdy zależy nam tylko na przeniesieniu zawartości bez żadnych dodatkowych metadanych, `copyfile` będzie najlepszym rozwiązaniem, ponieważ wykonuje najmniej operacji na systemie plików.\n",
    "```python\n",
    "# Kopiowanie tylko zawartości pliku\n",
    "shutil.copyfile(\"source.txt\", \"destination.txt\")\n",
    "\n",
    "# Kopiowanie zawartości i podstawowych uprawnień\n",
    "shutil.copy(\"source.txt\", \"destination.txt\")\n",
    "\n",
    "# Kopiowanie zawartości i pełnych metadanych\n",
    "shutil.copy2(\"source.txt\", \"destination.txt\")\n",
    "```"
   ],
   "metadata": {
    "collapsed": false
   }
  },
  {
   "cell_type": "code",
   "execution_count": 1,
   "outputs": [],
   "source": [
    "import shutil\n",
    "import os\n",
    "\n",
    "# Tworzenie struktury katalogów dla przykładu\n",
    "os.makedirs(\"./dir1/somedir\", exist_ok=True)  # Utworzenie katalogu \"somedir\" wewnątrz \"dir1\"\n",
    "os.makedirs(\"./dir2\", exist_ok=True)  # Utworzenie katalogu \"dir2\"\n",
    "\n",
    "# Tworzenie pliku z przykładową zawartością w \"dir1\"\n",
    "with open(\"./dir1/file.txt\", mode=\"w\") as file:\n",
    "    file.write(\"Testowa zawartość\")  # Zapisanie tekstu do pliku \"file.txt\"\n",
    "\n",
    "\"\"\"\n",
    "Przenoszenie plików i katalogów.\n",
    "\"\"\"\n",
    "# Przeniesienie pliku \"file.txt\" z \"dir1\" do \"dir2\"\n",
    "# shutil.move(\"./dir1/file.txt\", \"./dir2\")\n",
    "\n",
    "# Przeniesienie katalogu \"somedir\" z \"dir1\" do \"dir2\"\n",
    "# shutil.move(\"./dir1/somedir\", \"./dir2\")\n",
    "\n",
    "\"\"\"\n",
    "Kopiowanie plików i katalogów.\n",
    "\"\"\"\n",
    "# Kopiowanie pliku \"file.txt\" z \"dir1\" do \"dir2\" z zachowaniem metadanych. Wersja `copy` nie kopiuje metadanych.\n",
    "shutil.copy2(\"./dir1/file.txt\", \"./dir2\")\n",
    "\n",
    "# Kopiowanie katalogu \"somedir\" z \"dir1\" do \"dir2/somedir\"\n",
    "if not os.path.exists(\"./dir2/somedir\"):\n",
    "    shutil.copytree(\"./dir1/somedir\", \"./dir2/somedir\")\n"
   ],
   "metadata": {
    "collapsed": false
   }
  },
  {
   "cell_type": "markdown",
   "source": [
    "## Typowe wyjątki spotykane w trakcie pracy na plikach\n",
    "\n",
    "Podczas pracy z plikami i katalogami w Pythonie mogą wystąpić różne błędy związane z dostępnością ścieżek, brakiem odpowiednich uprawnień czy problemami w systemie plików. Najczęściej spotykane wyjątki to:\n",
    "\n",
    "- **FileNotFoundError**: Występuje, gdy program nie może znaleźć pliku lub katalogu, do którego próbuje uzyskać dostęp. Może to być wynikiem błędnie podanej ścieżki lub braku wymaganego pliku.\n",
    "\n",
    "- **PermissionError**: Powstaje, gdy brakuje odpowiednich uprawnień do wykonania operacji na pliku lub katalogu. Może pojawić się np. podczas próby usunięcia chronionego pliku lub zapisu w katalogu systemowym.\n",
    "\n",
    "- **OSError**: Jest bardziej ogólnym wyjątkiem, obejmującym różne problemy związane z systemem operacyjnym i systemem plików, takie jak brak miejsca na dysku, zbyt długa nazwa pliku lub nieznany błąd.\n",
    "\n",
    "```python\n",
    "def create_directory(path: str) -> None:\n",
    "    \"\"\"Tworzy katalog, jeśli nie istnieje, i obsługuje błędy.\"\"\"\n",
    "    try:\n",
    "        os.makedirs(path, exist_ok=True)\n",
    "        print(f\"Katalog {path} utworzony pomyślnie.\")\n",
    "    except PermissionError:\n",
    "        print(f\"Brak uprawnień do utworzenia katalogu {path}.\")\n",
    "    except FileNotFoundError:\n",
    "        print(f\"Ścieżka {path} jest nieprawidłowa.\")\n",
    "    except OSError as e:\n",
    "        print(f\"Nieoczekiwany błąd: {e}\")\n",
    "```"
   ],
   "metadata": {
    "collapsed": false
   }
  },
  {
   "cell_type": "markdown",
   "source": [
    "# Zadania\n",
    "\n",
    "W ramach zadania domowego stworzony zostanie prosty program do zarządzania e-bookami. Program będzie umożliwiał grupowanie dokumentów w odpowiednich folderach oraz archiwizację dokumentów."
   ],
   "metadata": {
    "collapsed": false
   }
  },
  {
   "cell_type": "markdown",
   "source": [
    "Zad 1.\n",
    "\n",
    "Zapoznaj się z dokumentacją plików YAML.\n",
    "[what-is-yaml](https://www.redhat.com/en/topics/automation/what-is-yaml)\n",
    "[reading-and-writing-yaml-file-in-python](https://www.geeksforgeeks.org/reading-and-writing-yaml-file-in-python/)\n",
    "Do wczytywania konfiguracji z pliku YAML można wykorzystać przykład z katalogu `yaml_config_example`\n",
    "\n",
    "Stwórz plik config.yaml, który będzie przechowywał następujące opcje programu:\n",
    "- ścieżkę do lokalizacji przechowującej e-booki (do biblioteki)\n",
    "- listę obsługiwanych formatów (.epub, .mobi, .pdf)\n",
    "\n",
    "Stwórz program `ebook_manager`, który wczyta dane z pliku konfiguracyjnego, a następnie we wskazanej lokalizacji utworzy katalogi dla każdego formatu ebooków (o ile już tam nie istnieją). Niech foldery będą pisane dużymi literami, bez kropki na początku.\n",
    "Plik konfiguracyjny niech znajduje się w tym samym katalogu co program. W przypadku, gdy plik `config.yaml` nie istnieje, należy powiadomić o tym użytkownika."
   ],
   "metadata": {
    "collapsed": false
   }
  },
  {
   "cell_type": "markdown",
   "source": [
    "Zad 2.\n",
    "Korzystając z dokumentacji [how-to-use-python-argparse](https://www.cherryservers.com/blog/how-to-use-python-argparse) umożliwić przekazanie do programu `ebook_manager` polecenia jako argument wywołania.\n",
    "Obsługiwane polecenia:\n",
    "- `add <path>` - polecenie na razie tylko wypisze tekst: \"Dodawanie e-booków ze ścieżki `<path>` do biblioteki...\"\n",
    "- `show` - polecenie na razie wypisze tylko tekst: \"Zawartość biblioteki:\"\n",
    "- `archive` - polecenie na razie wypisze tylko tekst: \"Tworzenie archiwum...\""
   ],
   "metadata": {
    "collapsed": false
   }
  },
  {
   "cell_type": "markdown",
   "source": [
    "Zad 3.\n",
    "Posiadając dane z pliku konfiguracyjnego oraz komendy przekazywane przez użytkownika, zaimplementować logikę programu:\n",
    "- polecenie `add` niech przechodzi rekursywnie przez całą zawartość katalogu z argumentu `path` i wyszukuje plików z obsługiwanymi rozszerzeniami. Następnie niech przeniesie pliki do odpowiednich podfolderów biblioteki. Jeśli w docelowej lokalizacji istnieje już plik o takiej nazwie, niech program zapyta użytkownika, czy należy nadpisać plik, czy go pominąć.\n",
    "- polecenie `show` niech wypisze zawartość wszystkich podkatalogów biblioteki (e-booki pogrupowane wg. rozszerzeń)\n",
    "- polecenie `archive` niech stworzy w podfolderze `backup` paczkę zawierającą spakowaną zawartość wszystkich katalogów. Niech paczka zawiera w nazwę datę wykonania operacji."
   ],
   "metadata": {
    "collapsed": false
   }
  }
 ],
 "metadata": {
  "kernelspec": {
   "display_name": "Python 3",
   "language": "python",
   "name": "python3"
  },
  "language_info": {
   "codemirror_mode": {
    "name": "ipython",
    "version": 2
   },
   "file_extension": ".py",
   "mimetype": "text/x-python",
   "name": "python",
   "nbconvert_exporter": "python",
   "pygments_lexer": "ipython2",
   "version": "2.7.6"
  }
 },
 "nbformat": 4,
 "nbformat_minor": 0
}
